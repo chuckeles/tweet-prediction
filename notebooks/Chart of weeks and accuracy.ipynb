{
 "cells": [
  {
   "cell_type": "markdown",
   "metadata": {},
   "source": [
    "# Chart of weeks taken and model accuracy\n",
    "\n",
    "In this notebook we will take a look on how the number of weeks taken as an input to the model changes the model accuracy. We will also produce multiple models with varying preprocessing to compare its effectiveness."
   ]
  },
  {
   "cell_type": "code",
   "execution_count": 1,
   "metadata": {
    "collapsed": true
   },
   "outputs": [],
   "source": [
    "%matplotlib inline\n",
    "\n",
    "import sys\n",
    "sys.path.append('../scripts')\n",
    "\n",
    "import numpy as np\n",
    "import pandas as pd\n",
    "import seaborn as sb\n",
    "import matplotlib as plt\n",
    "import helpers_models as hm\n",
    "import transforms\n",
    "from sklearn.linear_model import LogisticRegressionCV\n",
    "from sklearn.pipeline import Pipeline\n",
    "from sklearn.model_selection import train_test_split\n",
    "from sklearn.metrics import accuracy_score\n",
    "\n",
    "sb.set_style('white')\n",
    "plt.rcParams['figure.figsize'] = (14,10)"
   ]
  },
  {
   "cell_type": "markdown",
   "metadata": {},
   "source": [
    "So first, load the data. Then add target and split it to train and test."
   ]
  },
  {
   "cell_type": "code",
   "execution_count": 2,
   "metadata": {
    "collapsed": true
   },
   "outputs": [],
   "source": [
    "data = hm.load_pivot_numbers()"
   ]
  },
  {
   "cell_type": "code",
   "execution_count": 3,
   "metadata": {
    "collapsed": true
   },
   "outputs": [],
   "source": [
    "first_week, last_week = data['tweets'].columns.min(), data['tweets'].columns.max()"
   ]
  },
  {
   "cell_type": "code",
   "execution_count": 4,
   "metadata": {
    "collapsed": true
   },
   "outputs": [],
   "source": [
    "data = hm.make_target(data, last_week)"
   ]
  },
  {
   "cell_type": "code",
   "execution_count": 5,
   "metadata": {
    "collapsed": true
   },
   "outputs": [],
   "source": [
    "train, test = train_test_split(data)"
   ]
  },
  {
   "cell_type": "markdown",
   "metadata": {},
   "source": [
    "Now balance the train dataset."
   ]
  },
  {
   "cell_type": "code",
   "execution_count": 6,
   "metadata": {
    "collapsed": true
   },
   "outputs": [],
   "source": [
    "train = hm.balance_data(train)"
   ]
  },
  {
   "cell_type": "markdown",
   "metadata": {},
   "source": [
    "We have the input data. It's time to make the pipelines for the models."
   ]
  },
  {
   "cell_type": "code",
   "execution_count": 7,
   "metadata": {
    "collapsed": true
   },
   "outputs": [],
   "source": [
    "pipe_base = Pipeline([\n",
    "    ('weeks', transforms.WeeksLimiter(first_week, last_week)),\n",
    "    ('logreg', LogisticRegressionCV())\n",
    "])"
   ]
  },
  {
   "cell_type": "code",
   "execution_count": 8,
   "metadata": {
    "collapsed": true
   },
   "outputs": [],
   "source": [
    "pipe_norm = Pipeline([\n",
    "    ('weeks', transforms.WeeksLimiter(first_week, last_week)),\n",
    "    ('norm', transforms.Normalizer()),\n",
    "    ('logreg', LogisticRegressionCV())\n",
    "])"
   ]
  },
  {
   "cell_type": "code",
   "execution_count": 9,
   "metadata": {
    "collapsed": true
   },
   "outputs": [],
   "source": [
    "pipe_decay = Pipeline([\n",
    "    ('weeks', transforms.WeeksLimiter(first_week, last_week)),\n",
    "    ('decay', transforms.TimeDecayApplier(last_week)),\n",
    "    ('logreg', LogisticRegressionCV())\n",
    "])"
   ]
  },
  {
   "cell_type": "code",
   "execution_count": 10,
   "metadata": {
    "collapsed": true
   },
   "outputs": [],
   "source": [
    "pipe_norm_decay = Pipeline([\n",
    "    ('weeks', transforms.WeeksLimiter(first_week, last_week)),\n",
    "    ('norm', transforms.Normalizer()),\n",
    "    ('decay', transforms.TimeDecayApplier(last_week)),\n",
    "    ('logreg', LogisticRegressionCV())\n",
    "])"
   ]
  },
  {
   "cell_type": "markdown",
   "metadata": {},
   "source": [
    "Now let's iterate over the weeks, train the models, and note their performaces into a data frame."
   ]
  },
  {
   "cell_type": "code",
   "execution_count": 11,
   "metadata": {
    "collapsed": true
   },
   "outputs": [],
   "source": [
    "scores = pd.DataFrame()"
   ]
  },
  {
   "cell_type": "code",
   "execution_count": 12,
   "metadata": {
    "scrolled": true
   },
   "outputs": [
    {
     "name": "stdout",
     "output_type": "stream",
     "text": [
      "\n",
      "TRAINING STARTING WEEK 23\n",
      "fitting base\n",
      "scoring base\n",
      "fitting normalized\n",
      "scoring normalized\n",
      "fitting with time decay\n",
      "scoring with time decay\n",
      "fitting normalized with time decay\n",
      "scoring normalized with time decay\n",
      "\n",
      "TRAINING STARTING WEEK 24\n",
      "fitting base\n",
      "scoring base\n",
      "fitting normalized\n",
      "scoring normalized\n",
      "fitting with time decay\n",
      "scoring with time decay\n",
      "fitting normalized with time decay\n",
      "scoring normalized with time decay\n",
      "\n",
      "TRAINING STARTING WEEK 25\n",
      "fitting base\n",
      "scoring base\n",
      "fitting normalized\n",
      "scoring normalized\n",
      "fitting with time decay\n",
      "scoring with time decay\n",
      "fitting normalized with time decay\n",
      "scoring normalized with time decay\n",
      "\n",
      "TRAINING STARTING WEEK 26\n",
      "fitting base\n",
      "scoring base\n",
      "fitting normalized\n",
      "scoring normalized\n",
      "fitting with time decay\n",
      "scoring with time decay\n",
      "fitting normalized with time decay\n",
      "scoring normalized with time decay\n",
      "\n",
      "TRAINING STARTING WEEK 27\n",
      "fitting base\n",
      "scoring base\n",
      "fitting normalized\n",
      "scoring normalized\n",
      "fitting with time decay\n",
      "scoring with time decay\n",
      "fitting normalized with time decay\n",
      "scoring normalized with time decay\n",
      "\n",
      "TRAINING STARTING WEEK 28\n",
      "fitting base\n",
      "scoring base\n",
      "fitting normalized\n",
      "scoring normalized\n",
      "fitting with time decay\n",
      "scoring with time decay\n",
      "fitting normalized with time decay\n",
      "scoring normalized with time decay\n",
      "\n",
      "TRAINING STARTING WEEK 29\n",
      "fitting base\n",
      "scoring base\n",
      "fitting normalized\n",
      "scoring normalized\n",
      "fitting with time decay\n",
      "scoring with time decay\n",
      "fitting normalized with time decay\n",
      "scoring normalized with time decay\n",
      "\n",
      "TRAINING STARTING WEEK 30\n",
      "fitting base\n",
      "scoring base\n",
      "fitting normalized\n",
      "scoring normalized\n",
      "fitting with time decay\n",
      "scoring with time decay\n",
      "fitting normalized with time decay\n",
      "scoring normalized with time decay\n",
      "\n",
      "TRAINING STARTING WEEK 31\n",
      "fitting base\n",
      "scoring base\n",
      "fitting normalized\n",
      "scoring normalized\n",
      "fitting with time decay\n",
      "scoring with time decay\n",
      "fitting normalized with time decay\n",
      "scoring normalized with time decay\n",
      "\n",
      "TRAINING STARTING WEEK 32\n",
      "fitting base\n",
      "scoring base\n",
      "fitting normalized\n",
      "scoring normalized\n",
      "fitting with time decay\n",
      "scoring with time decay\n",
      "fitting normalized with time decay\n",
      "scoring normalized with time decay\n",
      "\n",
      "TRAINING STARTING WEEK 33\n",
      "fitting base\n",
      "scoring base\n",
      "fitting normalized\n",
      "scoring normalized\n",
      "fitting with time decay\n",
      "scoring with time decay\n",
      "fitting normalized with time decay\n",
      "scoring normalized with time decay\n",
      "\n",
      "TRAINING STARTING WEEK 34\n",
      "fitting base\n",
      "scoring base\n",
      "fitting normalized\n",
      "scoring normalized\n",
      "fitting with time decay\n",
      "scoring with time decay\n",
      "fitting normalized with time decay\n",
      "scoring normalized with time decay\n",
      "\n",
      "TRAINING STARTING WEEK 35\n",
      "fitting base\n",
      "scoring base\n",
      "fitting normalized\n",
      "scoring normalized\n",
      "fitting with time decay\n",
      "scoring with time decay\n",
      "fitting normalized with time decay\n",
      "scoring normalized with time decay\n",
      "CPU times: user 40min 28s, sys: 10min 31s, total: 51min\n",
      "Wall time: 40min 23s\n"
     ]
    }
   ],
   "source": [
    "%%time\n",
    "for starting_week in range(first_week, last_week):\n",
    "    print()\n",
    "    print('TRAINING STARTING WEEK', starting_week)\n",
    "    \n",
    "    # update pipes\n",
    "    for pipe in [pipe_base, pipe_norm, pipe_decay, pipe_norm_decay]:\n",
    "        pipe.set_params(weeks__first_week=starting_week)\n",
    "        \n",
    "    row = {\n",
    "        'weeks taken': last_week - starting_week\n",
    "    }\n",
    "        \n",
    "    # train and score pipes\n",
    "    for pipe, name in [\n",
    "        (pipe_base, 'base'),\n",
    "        (pipe_norm, 'normalized'),\n",
    "        (pipe_decay, 'with time decay'),\n",
    "        (pipe_norm_decay, 'normalized with time decay')\n",
    "    ]:\n",
    "        print('fitting', name)\n",
    "        pipe.fit(train.drop('target', axis=1, level=0), train['target'])\n",
    "        \n",
    "        print('scoring', name)\n",
    "        predicted = pipe.predict(test.drop('target', axis=1, level=0))\n",
    "        score = accuracy_score(test['target'], predicted)\n",
    "        \n",
    "        # save to row\n",
    "        row[name] = score\n",
    "        \n",
    "    # add the row with scores\n",
    "    scores = scores.append(row, ignore_index=True)"
   ]
  },
  {
   "cell_type": "markdown",
   "metadata": {},
   "source": [
    "Finally, print the chart."
   ]
  },
  {
   "cell_type": "code",
   "execution_count": 14,
   "metadata": {},
   "outputs": [
    {
     "data": {
      "text/plain": [
       "<matplotlib.axes._subplots.AxesSubplot at 0x10f148f60>"
      ]
     },
     "execution_count": 14,
     "metadata": {},
     "output_type": "execute_result"
    },
    {
     "data": {
      "image/png": "[encoded data removed]",
      "text/plain": [
       "<matplotlib.figure.Figure at 0x10f0f9eb8>"
      ]
     },
     "metadata": {},
     "output_type": "display_data"
    }
   ],
   "source": [
    "plot = scores.set_index('weeks taken').sort_index().plot(kind='bar', ylim=(0.85, 0.90))\n",
    "plot.set_xlabel('number of weeks taken from the dataset for training')\n",
    "plot.set_ylabel('resulting model accuracy on the testing data')\n",
    "plot"
   ]
  }
 ],
 "metadata": {
  "kernelspec": {
   "display_name": "Python 3",
   "language": "python",
   "name": "python3"
  },
  "language_info": {
   "codemirror_mode": {
    "name": "ipython",
    "version": 3
   },
   "file_extension": ".py",
   "mimetype": "text/x-python",
   "name": "python",
   "nbconvert_exporter": "python",
   "pygments_lexer": "ipython3",
   "version": "3.6.1"
  }
 },
 "nbformat": 4,
 "nbformat_minor": 2
}
