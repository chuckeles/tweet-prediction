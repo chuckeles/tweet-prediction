{
 "cells": [
  {
   "cell_type": "markdown",
   "metadata": {},
   "source": [
    "# Decision tree classifier\n",
    "\n",
    "In this notebook, we will train a Decision tree classifier on a subset of the data. We will use grid-search to optimize the parameters."
   ]
  },
  {
   "cell_type": "code",
   "execution_count": 1,
   "metadata": {
    "collapsed": true
   },
   "outputs": [],
   "source": [
    "import sys\n",
    "sys.path.append('../scripts')\n",
    "\n",
    "import numpy as np\n",
    "import pandas as pd\n",
    "import helpers_models as hm\n",
    "from transforms import *\n",
    "from sklearn.pipeline import Pipeline\n",
    "from sklearn.model_selection import train_test_split\n",
    "from sklearn.metrics import classification_report\n",
    "from sklearn.tree import DecisionTreeClassifier\n",
    "from sklearn.model_selection import GridSearchCV"
   ]
  },
  {
   "cell_type": "markdown",
   "metadata": {},
   "source": [
    "First, load a sample of the data."
   ]
  },
  {
   "cell_type": "code",
   "execution_count": 2,
   "metadata": {
    "collapsed": true
   },
   "outputs": [],
   "source": [
    "data = pd.read_hdf('../data/pivot_numbers_only.h5', 'data').sample(2000000)"
   ]
  },
  {
   "cell_type": "code",
   "execution_count": 3,
   "metadata": {
    "collapsed": true
   },
   "outputs": [],
   "source": [
    "first_week, last_week = data['tweets'].columns.min(), data['tweets'].columns.max()"
   ]
  },
  {
   "cell_type": "code",
   "execution_count": 4,
   "metadata": {
    "collapsed": true
   },
   "outputs": [],
   "source": [
    "data = hm.make_target(data, last_week)"
   ]
  },
  {
   "cell_type": "code",
   "execution_count": 5,
   "metadata": {},
   "outputs": [
    {
     "data": {
      "text/plain": [
       "(2000000, 53)"
      ]
     },
     "execution_count": 5,
     "metadata": {},
     "output_type": "execute_result"
    }
   ],
   "source": [
    "data.shape"
   ]
  },
  {
   "cell_type": "code",
   "execution_count": 6,
   "metadata": {},
   "outputs": [
    {
     "data": {
      "text/plain": [
       "23"
      ]
     },
     "execution_count": 6,
     "metadata": {},
     "output_type": "execute_result"
    }
   ],
   "source": [
    "first_week"
   ]
  },
  {
   "cell_type": "code",
   "execution_count": 7,
   "metadata": {},
   "outputs": [
    {
     "data": {
      "text/plain": [
       "36"
      ]
     },
     "execution_count": 7,
     "metadata": {},
     "output_type": "execute_result"
    }
   ],
   "source": [
    "last_week"
   ]
  },
  {
   "cell_type": "markdown",
   "metadata": {},
   "source": [
    "Split the data into train and test."
   ]
  },
  {
   "cell_type": "code",
   "execution_count": 8,
   "metadata": {
    "collapsed": true
   },
   "outputs": [],
   "source": [
    "train, test = train_test_split(data)"
   ]
  },
  {
   "cell_type": "markdown",
   "metadata": {},
   "source": [
    "Now make a pipeline for transforming and predicting."
   ]
  },
  {
   "cell_type": "code",
   "execution_count": 9,
   "metadata": {
    "collapsed": true
   },
   "outputs": [],
   "source": [
    "pipeline = Pipeline([\n",
    "    ('limiter', WeeksLimiter(first_week=25, target_week=last_week)),\n",
    "    ('normal', Normalizer()),\n",
    "    ('decay', TimeDecayApplier(target_week=last_week)),\n",
    "    ('tree', DecisionTreeClassifier())\n",
    "])"
   ]
  },
  {
   "cell_type": "markdown",
   "metadata": {},
   "source": [
    "Now let's check the params of the pipeline for grid-search to optimize."
   ]
  },
  {
   "cell_type": "code",
   "execution_count": 10,
   "metadata": {
    "scrolled": true
   },
   "outputs": [
    {
     "data": {
      "text/plain": [
       "{'decay': TimeDecayApplier(skip=False, target_week=36),\n",
       " 'decay__skip': False,\n",
       " 'decay__target_week': 36,\n",
       " 'limiter': WeeksLimiter(first_week=25, target_week=36),\n",
       " 'limiter__first_week': 25,\n",
       " 'limiter__target_week': 36,\n",
       " 'normal': Normalizer(skip=False),\n",
       " 'normal__skip': False,\n",
       " 'steps': [('limiter', WeeksLimiter(first_week=25, target_week=36)),\n",
       "  ('normal', Normalizer(skip=False)),\n",
       "  ('decay', TimeDecayApplier(skip=False, target_week=36)),\n",
       "  ('tree',\n",
       "   DecisionTreeClassifier(class_weight=None, criterion='gini', max_depth=None,\n",
       "               max_features=None, max_leaf_nodes=None,\n",
       "               min_impurity_split=1e-07, min_samples_leaf=1,\n",
       "               min_samples_split=2, min_weight_fraction_leaf=0.0,\n",
       "               presort=False, random_state=None, splitter='best'))],\n",
       " 'tree': DecisionTreeClassifier(class_weight=None, criterion='gini', max_depth=None,\n",
       "             max_features=None, max_leaf_nodes=None,\n",
       "             min_impurity_split=1e-07, min_samples_leaf=1,\n",
       "             min_samples_split=2, min_weight_fraction_leaf=0.0,\n",
       "             presort=False, random_state=None, splitter='best'),\n",
       " 'tree__class_weight': None,\n",
       " 'tree__criterion': 'gini',\n",
       " 'tree__max_depth': None,\n",
       " 'tree__max_features': None,\n",
       " 'tree__max_leaf_nodes': None,\n",
       " 'tree__min_impurity_split': 1e-07,\n",
       " 'tree__min_samples_leaf': 1,\n",
       " 'tree__min_samples_split': 2,\n",
       " 'tree__min_weight_fraction_leaf': 0.0,\n",
       " 'tree__presort': False,\n",
       " 'tree__random_state': None,\n",
       " 'tree__splitter': 'best'}"
      ]
     },
     "execution_count": 10,
     "metadata": {},
     "output_type": "execute_result"
    }
   ],
   "source": [
    "pipeline.get_params()"
   ]
  },
  {
   "cell_type": "code",
   "execution_count": 11,
   "metadata": {
    "collapsed": true
   },
   "outputs": [],
   "source": [
    "params = {\n",
    "    'limiter__first_week': [28, 30, 32],\n",
    "    'normal__skip': [False, True],\n",
    "    'decay__skip': [False, True],\n",
    "    'tree__max_depth': [3, 6]\n",
    "}"
   ]
  },
  {
   "cell_type": "code",
   "execution_count": 12,
   "metadata": {
    "collapsed": true
   },
   "outputs": [],
   "source": [
    "model = GridSearchCV(pipeline, params, n_jobs=-1, pre_dispatch='2*n_jobs', verbose=2, error_score=0)"
   ]
  },
  {
   "cell_type": "markdown",
   "metadata": {},
   "source": [
    "The next step is to train the model and optimize the params."
   ]
  },
  {
   "cell_type": "code",
   "execution_count": 13,
   "metadata": {
    "scrolled": true
   },
   "outputs": [
    {
     "name": "stdout",
     "output_type": "stream",
     "text": [
      "Fitting 3 folds for each of 24 candidates, totalling 72 fits\n",
      "[CV] decay__skip=False, limiter__first_week=28, normal__skip=False, tree__max_depth=3 \n",
      "[CV] decay__skip=False, limiter__first_week=28, normal__skip=False, tree__max_depth=3 \n",
      "[CV] decay__skip=False, limiter__first_week=28, normal__skip=False, tree__max_depth=3 \n",
      "[CV] decay__skip=False, limiter__first_week=28, normal__skip=False, tree__max_depth=6 \n",
      "[CV] decay__skip=False, limiter__first_week=28, normal__skip=False, tree__max_depth=6 \n",
      "[CV]  decay__skip=False, limiter__first_week=28, normal__skip=False, tree__max_depth=3, total=  10.4s\n",
      "[CV] decay__skip=False, limiter__first_week=28, normal__skip=False, tree__max_depth=6 \n",
      "[CV]  decay__skip=False, limiter__first_week=28, normal__skip=False, tree__max_depth=3, total=  12.2s\n",
      "[CV] decay__skip=False, limiter__first_week=28, normal__skip=True, tree__max_depth=3 \n",
      "[CV]  decay__skip=False, limiter__first_week=28, normal__skip=False, tree__max_depth=3, total=  15.2s\n",
      "[CV] decay__skip=False, limiter__first_week=28, normal__skip=True, tree__max_depth=3 \n",
      "[CV] decay__skip=False, limiter__first_week=28, normal__skip=True, tree__max_depth=3 \n",
      "[CV]  decay__skip=False, limiter__first_week=28, normal__skip=False, tree__max_depth=6, total=  20.3s\n",
      "[CV] decay__skip=False, limiter__first_week=28, normal__skip=True, tree__max_depth=6 \n",
      "[CV]  decay__skip=False, limiter__first_week=28, normal__skip=False, tree__max_depth=6, total=  21.2s\n",
      "[CV] decay__skip=False, limiter__first_week=28, normal__skip=True, tree__max_depth=6 \n",
      "[CV]  decay__skip=False, limiter__first_week=28, normal__skip=False, tree__max_depth=6, total=  21.9s\n",
      "[CV] decay__skip=False, limiter__first_week=28, normal__skip=True, tree__max_depth=6 \n",
      "[CV] decay__skip=False, limiter__first_week=30, normal__skip=False, tree__max_depth=3 \n",
      "[CV] decay__skip=False, limiter__first_week=30, normal__skip=False, tree__max_depth=3 \n",
      "[CV]  decay__skip=False, limiter__first_week=30, normal__skip=False, tree__max_depth=3, total=  28.7s\n",
      "[CV] decay__skip=False, limiter__first_week=30, normal__skip=False, tree__max_depth=3 \n",
      "[CV]  decay__skip=False, limiter__first_week=30, normal__skip=False, tree__max_depth=3, total=  29.4s\n",
      "[CV] decay__skip=False, limiter__first_week=30, normal__skip=False, tree__max_depth=6 \n",
      "[CV]  decay__skip=False, limiter__first_week=28, normal__skip=True, tree__max_depth=3, total=  54.5s\n",
      "[CV] decay__skip=False, limiter__first_week=30, normal__skip=False, tree__max_depth=6 \n",
      "[CV]  decay__skip=False, limiter__first_week=28, normal__skip=True, tree__max_depth=3, total=  57.7s\n",
      "[CV]  decay__skip=False, limiter__first_week=28, normal__skip=True, tree__max_depth=3, total=  58.8s\n",
      "[CV] decay__skip=False, limiter__first_week=30, normal__skip=False, tree__max_depth=6 \n",
      "[CV]  decay__skip=False, limiter__first_week=30, normal__skip=False, tree__max_depth=3, total=  30.3s\n",
      "[CV] decay__skip=False, limiter__first_week=30, normal__skip=True, tree__max_depth=3 \n",
      "[CV]  decay__skip=False, limiter__first_week=28, normal__skip=True, tree__max_depth=6, total= 1.1min\n",
      "[CV] decay__skip=False, limiter__first_week=30, normal__skip=True, tree__max_depth=3 \n",
      "[CV]  decay__skip=False, limiter__first_week=30, normal__skip=False, tree__max_depth=6, total=  31.8s\n",
      "[CV]  decay__skip=False, limiter__first_week=28, normal__skip=True, tree__max_depth=6, total= 1.1min\n",
      "[CV] decay__skip=False, limiter__first_week=30, normal__skip=True, tree__max_depth=3 \n",
      "[CV]  decay__skip=False, limiter__first_week=28, normal__skip=True, tree__max_depth=6, total= 1.1min\n",
      "[CV] decay__skip=False, limiter__first_week=30, normal__skip=True, tree__max_depth=6 \n",
      "[CV]  decay__skip=False, limiter__first_week=30, normal__skip=False, tree__max_depth=6, total=  28.3s\n",
      "[CV] decay__skip=False, limiter__first_week=30, normal__skip=True, tree__max_depth=6 \n",
      "[CV]  decay__skip=False, limiter__first_week=30, normal__skip=False, tree__max_depth=6, total=  24.6s\n",
      "[CV] decay__skip=False, limiter__first_week=30, normal__skip=True, tree__max_depth=6 \n",
      "[CV] decay__skip=False, limiter__first_week=32, normal__skip=False, tree__max_depth=3 \n",
      "[CV] decay__skip=False, limiter__first_week=32, normal__skip=False, tree__max_depth=3 \n",
      "[CV]  decay__skip=False, limiter__first_week=30, normal__skip=True, tree__max_depth=3, total=  39.0s\n",
      "[CV] decay__skip=False, limiter__first_week=32, normal__skip=False, tree__max_depth=3 \n",
      "[CV]  decay__skip=False, limiter__first_week=32, normal__skip=False, tree__max_depth=3, total=  27.3s\n",
      "[CV]  decay__skip=False, limiter__first_week=30, normal__skip=True, tree__max_depth=3, total=  45.0s\n",
      "[CV]  decay__skip=False, limiter__first_week=30, normal__skip=True, tree__max_depth=3, total=  42.5s\n",
      "[CV]  decay__skip=False, limiter__first_week=32, normal__skip=False, tree__max_depth=3, total=  27.1s\n",
      "[CV] decay__skip=False, limiter__first_week=32, normal__skip=False, tree__max_depth=6 \n",
      "[CV] decay__skip=False, limiter__first_week=32, normal__skip=False, tree__max_depth=6 \n",
      "[CV]  decay__skip=False, limiter__first_week=30, normal__skip=True, tree__max_depth=6, total=  52.0s\n",
      "[CV]  decay__skip=False, limiter__first_week=30, normal__skip=True, tree__max_depth=6, total=  48.7s\n"
     ]
    },
    {
     "name": "stderr",
     "output_type": "stream",
     "text": [
      "[Parallel(n_jobs=-1)]: Done  25 tasks      | elapsed:  3.7min\n"
     ]
    },
    {
     "name": "stdout",
     "output_type": "stream",
     "text": [
      "[CV] decay__skip=False, limiter__first_week=32, normal__skip=False, tree__max_depth=6 \n",
      "[CV] decay__skip=False, limiter__first_week=32, normal__skip=True, tree__max_depth=3 \n",
      "[CV]  decay__skip=False, limiter__first_week=30, normal__skip=True, tree__max_depth=6, total=  48.7s\n",
      "[CV]  decay__skip=False, limiter__first_week=32, normal__skip=False, tree__max_depth=3, total=  21.1s\n",
      "[CV] decay__skip=False, limiter__first_week=32, normal__skip=True, tree__max_depth=3 \n",
      "[CV] decay__skip=False, limiter__first_week=32, normal__skip=True, tree__max_depth=3 \n",
      "[CV]  decay__skip=False, limiter__first_week=32, normal__skip=False, tree__max_depth=6, total=  19.8s\n",
      "[CV] decay__skip=False, limiter__first_week=32, normal__skip=True, tree__max_depth=6 \n",
      "[CV]  decay__skip=False, limiter__first_week=32, normal__skip=False, tree__max_depth=6, total=  16.6s\n",
      "[CV] decay__skip=False, limiter__first_week=32, normal__skip=True, tree__max_depth=6 \n",
      "[CV]  decay__skip=False, limiter__first_week=32, normal__skip=False, tree__max_depth=6, total=  20.4s\n",
      "[CV] decay__skip=False, limiter__first_week=32, normal__skip=True, tree__max_depth=6 \n",
      "[CV] decay__skip=True, limiter__first_week=28, normal__skip=False, tree__max_depth=3 \n",
      "[CV] decay__skip=True, limiter__first_week=28, normal__skip=False, tree__max_depth=3 \n",
      "[CV]  decay__skip=False, limiter__first_week=32, normal__skip=True, tree__max_depth=3, total=  24.8s\n",
      "[CV]  decay__skip=False, limiter__first_week=32, normal__skip=True, tree__max_depth=3, total=  26.4s\n",
      "[CV] decay__skip=True, limiter__first_week=28, normal__skip=False, tree__max_depth=3 \n",
      "[CV] decay__skip=True, limiter__first_week=28, normal__skip=False, tree__max_depth=6 \n",
      "[CV]  decay__skip=False, limiter__first_week=32, normal__skip=True, tree__max_depth=3, total=  31.8s\n",
      "[CV] decay__skip=True, limiter__first_week=28, normal__skip=False, tree__max_depth=6 \n",
      "[CV]  decay__skip=False, limiter__first_week=32, normal__skip=True, tree__max_depth=6, total=  32.7s\n",
      "[CV]  decay__skip=False, limiter__first_week=32, normal__skip=True, tree__max_depth=6, total=  36.1s\n",
      "[CV]  decay__skip=True, limiter__first_week=28, normal__skip=False, tree__max_depth=3, total=  26.0s\n",
      "[CV] decay__skip=True, limiter__first_week=28, normal__skip=False, tree__max_depth=6 \n",
      "[CV]  decay__skip=True, limiter__first_week=28, normal__skip=False, tree__max_depth=3, total=  25.8s\n",
      "[CV]  decay__skip=False, limiter__first_week=32, normal__skip=True, tree__max_depth=6, total=  34.3s\n",
      "[CV] decay__skip=True, limiter__first_week=28, normal__skip=True, tree__max_depth=3 \n",
      "[CV]  decay__skip=True, limiter__first_week=28, normal__skip=False, tree__max_depth=3, total=  25.3s\n",
      "[CV] decay__skip=True, limiter__first_week=28, normal__skip=True, tree__max_depth=3 \n",
      "[CV]  decay__skip=True, limiter__first_week=28, normal__skip=False, tree__max_depth=6, total=  23.4s\n",
      "[CV] decay__skip=True, limiter__first_week=28, normal__skip=True, tree__max_depth=3 \n",
      "[CV]  decay__skip=True, limiter__first_week=28, normal__skip=False, tree__max_depth=6, total=  21.9s\n",
      "[CV] decay__skip=True, limiter__first_week=28, normal__skip=True, tree__max_depth=6 \n",
      "[CV]  decay__skip=True, limiter__first_week=28, normal__skip=True, tree__max_depth=3, total=  14.8s\n",
      "[CV]  decay__skip=True, limiter__first_week=28, normal__skip=False, tree__max_depth=6, total=  18.7s\n",
      "[CV] decay__skip=True, limiter__first_week=28, normal__skip=True, tree__max_depth=6 \n",
      "[CV]  decay__skip=True, limiter__first_week=28, normal__skip=True, tree__max_depth=3, total=  16.3s\n",
      "[CV] decay__skip=True, limiter__first_week=28, normal__skip=True, tree__max_depth=6 \n",
      "[CV]  decay__skip=True, limiter__first_week=28, normal__skip=True, tree__max_depth=3, total=  14.5s\n",
      "[CV] decay__skip=True, limiter__first_week=30, normal__skip=False, tree__max_depth=3 \n",
      "[CV] decay__skip=True, limiter__first_week=30, normal__skip=False, tree__max_depth=3 \n",
      "[CV]  decay__skip=True, limiter__first_week=28, normal__skip=True, tree__max_depth=6, total=  14.6s\n",
      "[CV] decay__skip=True, limiter__first_week=30, normal__skip=False, tree__max_depth=3 \n",
      "[CV]  decay__skip=True, limiter__first_week=28, normal__skip=True, tree__max_depth=6, total=  15.9s\n",
      "[CV] decay__skip=True, limiter__first_week=30, normal__skip=False, tree__max_depth=6 \n",
      "[CV]  decay__skip=True, limiter__first_week=28, normal__skip=True, tree__max_depth=6, total=  16.6s\n",
      "[CV] decay__skip=True, limiter__first_week=30, normal__skip=False, tree__max_depth=6 \n",
      "[CV]  decay__skip=True, limiter__first_week=30, normal__skip=False, tree__max_depth=3, total=  16.4s\n",
      "[CV] decay__skip=True, limiter__first_week=30, normal__skip=False, tree__max_depth=6 \n",
      "[CV]  decay__skip=True, limiter__first_week=30, normal__skip=False, tree__max_depth=3, total=  16.8s\n",
      "[CV] decay__skip=True, limiter__first_week=30, normal__skip=True, tree__max_depth=3 \n",
      "[CV]  decay__skip=True, limiter__first_week=30, normal__skip=False, tree__max_depth=3, total=  17.7s\n",
      "[CV] decay__skip=True, limiter__first_week=30, normal__skip=True, tree__max_depth=3 \n",
      "[CV] decay__skip=True, limiter__first_week=30, normal__skip=True, tree__max_depth=3 \n",
      "[CV]  decay__skip=True, limiter__first_week=30, normal__skip=False, tree__max_depth=6, total=  19.7s\n",
      "[CV] decay__skip=True, limiter__first_week=30, normal__skip=True, tree__max_depth=6 \n",
      "[CV]  decay__skip=True, limiter__first_week=30, normal__skip=False, tree__max_depth=6, total=  21.0s\n",
      "[CV] decay__skip=True, limiter__first_week=30, normal__skip=True, tree__max_depth=6 \n",
      "[CV]  decay__skip=True, limiter__first_week=30, normal__skip=True, tree__max_depth=3, total=  16.4s\n",
      "[CV]  decay__skip=True, limiter__first_week=30, normal__skip=False, tree__max_depth=6, total=  20.8s\n",
      "[CV] decay__skip=True, limiter__first_week=30, normal__skip=True, tree__max_depth=6 \n",
      "[CV]  decay__skip=True, limiter__first_week=30, normal__skip=True, tree__max_depth=3, total=  16.8s\n",
      "[CV] decay__skip=True, limiter__first_week=32, normal__skip=False, tree__max_depth=3 \n",
      "[CV]  decay__skip=True, limiter__first_week=30, normal__skip=True, tree__max_depth=3, total=  16.2s\n",
      "[CV] decay__skip=True, limiter__first_week=32, normal__skip=False, tree__max_depth=3 \n",
      "[CV]  decay__skip=True, limiter__first_week=30, normal__skip=True, tree__max_depth=6, total=  16.6s\n",
      "[CV]  decay__skip=True, limiter__first_week=30, normal__skip=True, tree__max_depth=6, total=  15.5s\n",
      "[CV] decay__skip=True, limiter__first_week=32, normal__skip=False, tree__max_depth=3 \n",
      "[CV]  decay__skip=True, limiter__first_week=30, normal__skip=True, tree__max_depth=6, total=  15.3s\n",
      "[CV] decay__skip=True, limiter__first_week=32, normal__skip=False, tree__max_depth=6 \n",
      "[CV]  decay__skip=True, limiter__first_week=32, normal__skip=False, tree__max_depth=3, total=  12.9s\n",
      "[CV] decay__skip=True, limiter__first_week=32, normal__skip=False, tree__max_depth=6 \n",
      "[CV]  decay__skip=True, limiter__first_week=32, normal__skip=False, tree__max_depth=3, total=  12.0s\n",
      "[CV] decay__skip=True, limiter__first_week=32, normal__skip=False, tree__max_depth=6 \n",
      "[CV]  decay__skip=True, limiter__first_week=32, normal__skip=False, tree__max_depth=3, total=  11.5s\n",
      "[CV] decay__skip=True, limiter__first_week=32, normal__skip=True, tree__max_depth=3 \n",
      "[CV]  decay__skip=True, limiter__first_week=32, normal__skip=False, tree__max_depth=6, total=  12.8s\n",
      "[CV] decay__skip=True, limiter__first_week=32, normal__skip=True, tree__max_depth=3 \n",
      "[CV] decay__skip=True, limiter__first_week=32, normal__skip=True, tree__max_depth=3 \n",
      "[CV]  decay__skip=True, limiter__first_week=32, normal__skip=False, tree__max_depth=6, total=  15.6s\n",
      "[CV] decay__skip=True, limiter__first_week=32, normal__skip=True, tree__max_depth=6 \n",
      "[CV]  decay__skip=True, limiter__first_week=32, normal__skip=False, tree__max_depth=6, total=  16.1s\n",
      "[CV]  decay__skip=True, limiter__first_week=32, normal__skip=True, tree__max_depth=3, total=  15.0s\n",
      "[CV] decay__skip=True, limiter__first_week=32, normal__skip=True, tree__max_depth=6 \n",
      "[CV] decay__skip=True, limiter__first_week=32, normal__skip=True, tree__max_depth=6 \n",
      "[CV]  decay__skip=True, limiter__first_week=32, normal__skip=True, tree__max_depth=3, total=  12.8s\n",
      "[CV]  decay__skip=True, limiter__first_week=32, normal__skip=True, tree__max_depth=3, total=  12.0s\n",
      "[CV]  decay__skip=True, limiter__first_week=32, normal__skip=True, tree__max_depth=6, total=  12.6s\n"
     ]
    },
    {
     "name": "stdout",
     "output_type": "stream",
     "text": [
      "[CV]  decay__skip=True, limiter__first_week=32, normal__skip=True, tree__max_depth=6, total=  11.4s\n",
      "[CV]  decay__skip=True, limiter__first_week=32, normal__skip=True, tree__max_depth=6, total=  10.3s\n"
     ]
    },
    {
     "name": "stderr",
     "output_type": "stream",
     "text": [
      "[Parallel(n_jobs=-1)]: Done  72 out of  72 | elapsed:  7.4min finished\n"
     ]
    },
    {
     "name": "stdout",
     "output_type": "stream",
     "text": [
      "CPU times: user 4min 8s, sys: 36.1 s, total: 4min 44s\n",
      "Wall time: 7min 45s\n"
     ]
    },
    {
     "data": {
      "text/plain": [
       "GridSearchCV(cv=None, error_score=0,\n",
       "       estimator=Pipeline(steps=[('limiter', WeeksLimiter(first_week=25, target_week=36)), ('normal', Normalizer(skip=False)), ('decay', TimeDecayApplier(skip=False, target_week=36)), ('tree', DecisionTreeClassifier(class_weight=None, criterion='gini', max_depth=None,\n",
       "            max_features=None, max_leaf_nodes=None,\n",
       "            min_impurity_split=1e-07, min_samples_leaf=1,\n",
       "            min_samples_split=2, min_weight_fraction_leaf=0.0,\n",
       "            presort=False, random_state=None, splitter='best'))]),\n",
       "       fit_params={}, iid=True, n_jobs=-1,\n",
       "       param_grid={'limiter__first_week': [28, 30, 32], 'normal__skip': [False, True], 'decay__skip': [False, True], 'tree__max_depth': [3, 6]},\n",
       "       pre_dispatch='2*n_jobs', refit=True, return_train_score=True,\n",
       "       scoring=None, verbose=2)"
      ]
     },
     "execution_count": 13,
     "metadata": {},
     "output_type": "execute_result"
    }
   ],
   "source": [
    "%%time\n",
    "model.fit(train.drop('target', axis=1, level=0), train['target'])"
   ]
  },
  {
   "cell_type": "markdown",
   "metadata": {},
   "source": [
    "Finally, use the model to predict test values and scores. We will use the test data for predictions."
   ]
  },
  {
   "cell_type": "code",
   "execution_count": 14,
   "metadata": {},
   "outputs": [
    {
     "name": "stdout",
     "output_type": "stream",
     "text": [
      "CPU times: user 3.2 s, sys: 2.37 s, total: 5.58 s\n",
      "Wall time: 5.51 s\n"
     ]
    }
   ],
   "source": [
    "%%time\n",
    "predicted = model.predict(test.drop('target', axis=1, level=0))\n",
    "report = classification_report(test['target'], predicted, digits=5)"
   ]
  },
  {
   "cell_type": "code",
   "execution_count": 15,
   "metadata": {},
   "outputs": [
    {
     "name": "stdout",
     "output_type": "stream",
     "text": [
      "             precision    recall  f1-score   support\n",
      "\n",
      "      False    0.91819   0.98218   0.94911    442005\n",
      "       True    0.71036   0.33306   0.45350     57995\n",
      "\n",
      "avg / total    0.89409   0.90689   0.89162    500000\n",
      "\n"
     ]
    }
   ],
   "source": [
    "print(report)"
   ]
  },
  {
   "cell_type": "markdown",
   "metadata": {},
   "source": [
    "Also check the best parameters grid-search found."
   ]
  },
  {
   "cell_type": "code",
   "execution_count": 16,
   "metadata": {},
   "outputs": [
    {
     "data": {
      "text/plain": [
       "{'decay__skip': False,\n",
       " 'limiter__first_week': 28,\n",
       " 'normal__skip': True,\n",
       " 'tree__max_depth': 6}"
      ]
     },
     "execution_count": 16,
     "metadata": {},
     "output_type": "execute_result"
    }
   ],
   "source": [
    "model.best_params_"
   ]
  }
 ],
 "metadata": {
  "kernelspec": {
   "display_name": "Python 3",
   "language": "python",
   "name": "python3"
  },
  "language_info": {
   "codemirror_mode": {
    "name": "ipython",
    "version": 3
   },
   "file_extension": ".py",
   "mimetype": "text/x-python",
   "name": "python",
   "nbconvert_exporter": "python",
   "pygments_lexer": "ipython3",
   "version": "3.6.1"
  }
 },
 "nbformat": 4,
 "nbformat_minor": 2
}
