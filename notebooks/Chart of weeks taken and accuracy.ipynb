{
 "cells": [
  {
   "cell_type": "markdown",
   "metadata": {},
   "source": [
    "# Chart of weeks taken and accuracy\n",
    "\n",
    "Here we'll take a varying amount of weeks to train the model and note the accuracy of the model. The result will be a chart mentioned in the title."
   ]
  },
  {
   "cell_type": "code",
   "execution_count": 1,
   "metadata": {
    "collapsed": false
   },
   "outputs": [],
   "source": [
    "%matplotlib inline\n",
    "\n",
    "import numpy as np\n",
    "import pandas as pd\n",
    "import seaborn as sb\n",
    "import matplotlib as plt\n",
    "import sys\n",
    "from sklearn.linear_model import LogisticRegressionCV\n",
    "from sklearn.metrics import accuracy_score\n",
    "\n",
    "sb.set_style('dark')\n",
    "plt.rcParams['figure.figsize'] = (14,10)"
   ]
  },
  {
   "cell_type": "code",
   "execution_count": 2,
   "metadata": {
    "collapsed": true
   },
   "outputs": [],
   "source": [
    "sys.path.append('../scripts/')\n",
    "import helpers_models as hm"
   ]
  },
  {
   "cell_type": "markdown",
   "metadata": {},
   "source": [
    "We'll be using the helpers which encapsulate common procedures from previous notebooks. These are used to load and process the dataset."
   ]
  },
  {
   "cell_type": "code",
   "execution_count": 3,
   "metadata": {
    "collapsed": true
   },
   "outputs": [],
   "source": [
    "data = hm.load_pivot_numbers()"
   ]
  },
  {
   "cell_type": "code",
   "execution_count": 4,
   "metadata": {
    "collapsed": false
   },
   "outputs": [],
   "source": [
    "first_week = data['tweets'].columns.min()\n",
    "target_week = data['tweets'].columns.max()"
   ]
  },
  {
   "cell_type": "code",
   "execution_count": 5,
   "metadata": {
    "collapsed": false
   },
   "outputs": [],
   "source": [
    "data = hm.make_target(data, target_week)"
   ]
  },
  {
   "cell_type": "code",
   "execution_count": 6,
   "metadata": {
    "collapsed": false
   },
   "outputs": [],
   "source": [
    "data = hm.balance_data(data)"
   ]
  },
  {
   "cell_type": "code",
   "execution_count": 7,
   "metadata": {
    "collapsed": true
   },
   "outputs": [],
   "source": [
    "data_input = data.drop('target', axis=1)\n",
    "data_target = data['target']"
   ]
  },
  {
   "cell_type": "code",
   "execution_count": 8,
   "metadata": {
    "collapsed": true
   },
   "outputs": [],
   "source": [
    "data_input_norm = hm.normalize_data(data_input)"
   ]
  },
  {
   "cell_type": "code",
   "execution_count": 9,
   "metadata": {
    "collapsed": false
   },
   "outputs": [],
   "source": [
    "data_input_decay = hm.apply_time_decay(data_input, first_week, target_week)"
   ]
  },
  {
   "cell_type": "code",
   "execution_count": 10,
   "metadata": {
    "collapsed": true
   },
   "outputs": [],
   "source": [
    "data_input_norm_decay = hm.apply_time_decay(data_input_norm, first_week, target_week)"
   ]
  },
  {
   "cell_type": "markdown",
   "metadata": {},
   "source": [
    "The following part is a quirky one. We need to convert the `data_target` to a data frame and set multiindex columns. This should not flatten the columns on `data_input` when concatenating."
   ]
  },
  {
   "cell_type": "code",
   "execution_count": 11,
   "metadata": {
    "collapsed": false
   },
   "outputs": [],
   "source": [
    "data_target = pd.DataFrame(data_target)"
   ]
  },
  {
   "cell_type": "code",
   "execution_count": 12,
   "metadata": {
    "collapsed": false
   },
   "outputs": [],
   "source": [
    "data_target.columns = pd.MultiIndex.from_tuples([(c, target_week) for c in data_target])"
   ]
  },
  {
   "cell_type": "code",
   "execution_count": 13,
   "metadata": {
    "collapsed": false
   },
   "outputs": [],
   "source": [
    "data = pd.concat([data_input, data_target], axis=1)\n",
    "data_norm = pd.concat([data_input_norm, data_target], axis=1)\n",
    "data_decay = pd.concat([data_input_decay, data_target], axis=1)\n",
    "data_norm_decay = pd.concat([data_input_norm_decay, data_target], axis=1)"
   ]
  },
  {
   "cell_type": "markdown",
   "metadata": {},
   "source": [
    "Now it's time to produce the chart. First, we'll make a for loop with the starting week moving from the first to the last - 1 (so we'll take at least one week as an input to the model)."
   ]
  },
  {
   "cell_type": "code",
   "execution_count": 14,
   "metadata": {
    "collapsed": true
   },
   "outputs": [],
   "source": [
    "chart_data = pd.DataFrame()"
   ]
  },
  {
   "cell_type": "code",
   "execution_count": 15,
   "metadata": {
    "collapsed": false,
    "scrolled": true
   },
   "outputs": [
    {
     "name": "stdout",
     "output_type": "stream",
     "text": [
      "\n",
      "TRAINING starting week 23\n"
     ]
    },
    {
     "name": "stderr",
     "output_type": "stream",
     "text": [
      "../scripts/helpers_models.py:64: PerformanceWarning: dropping on a non-lexsorted multi-index without a level parameter may impact performance.\n",
      "  train = data[train_rows].drop('target', axis=1)\n",
      "../scripts/helpers_models.py:66: PerformanceWarning: dropping on a non-lexsorted multi-index without a level parameter may impact performance.\n",
      "  test = data[~train_rows].drop('target', axis=1)\n"
     ]
    },
    {
     "name": "stdout",
     "output_type": "stream",
     "text": [
      "fitting\n"
     ]
    },
    {
     "name": "stderr",
     "output_type": "stream",
     "text": [
      "/usr/local/lib/python3.6/site-packages/sklearn/utils/validation.py:526: DataConversionWarning: A column-vector y was passed when a 1d array was expected. Please change the shape of y to (n_samples, ), for example using ravel().\n",
      "  y = column_or_1d(y, warn=True)\n"
     ]
    },
    {
     "name": "stdout",
     "output_type": "stream",
     "text": [
      "scoring\n",
      "fitting\n",
      "scoring\n",
      "fitting\n",
      "scoring\n",
      "fitting\n",
      "scoring\n",
      "\n",
      "TRAINING starting week 24\n",
      "dropping week 23\n",
      "fitting\n",
      "scoring\n",
      "fitting\n",
      "scoring\n",
      "fitting\n",
      "scoring\n",
      "fitting\n",
      "scoring\n",
      "\n",
      "TRAINING starting week 25\n",
      "dropping week 23\n",
      "dropping week 24\n",
      "fitting\n",
      "scoring\n",
      "fitting\n",
      "scoring\n",
      "fitting\n",
      "scoring\n",
      "fitting\n",
      "scoring\n",
      "\n",
      "TRAINING starting week 26\n",
      "dropping week 23\n",
      "dropping week 24\n",
      "dropping week 25\n",
      "fitting\n",
      "scoring\n",
      "fitting\n",
      "scoring\n",
      "fitting\n",
      "scoring\n",
      "fitting\n",
      "scoring\n",
      "\n",
      "TRAINING starting week 27\n",
      "dropping week 23\n",
      "dropping week 24\n",
      "dropping week 25\n",
      "dropping week 26\n",
      "fitting\n",
      "scoring\n",
      "fitting\n",
      "scoring\n",
      "fitting\n",
      "scoring\n",
      "fitting\n",
      "scoring\n",
      "\n",
      "TRAINING starting week 28\n",
      "dropping week 23\n",
      "dropping week 24\n",
      "dropping week 25\n",
      "dropping week 26\n",
      "dropping week 27\n",
      "fitting\n",
      "scoring\n",
      "fitting\n",
      "scoring\n",
      "fitting\n",
      "scoring\n",
      "fitting\n",
      "scoring\n",
      "\n",
      "TRAINING starting week 29\n",
      "dropping week 23\n",
      "dropping week 24\n",
      "dropping week 25\n",
      "dropping week 26\n",
      "dropping week 27\n",
      "dropping week 28\n",
      "fitting\n",
      "scoring\n",
      "fitting\n",
      "scoring\n",
      "fitting\n",
      "scoring\n",
      "fitting\n",
      "scoring\n",
      "\n",
      "TRAINING starting week 30\n",
      "dropping week 23\n",
      "dropping week 24\n",
      "dropping week 25\n",
      "dropping week 26\n",
      "dropping week 27\n",
      "dropping week 28\n",
      "dropping week 29\n",
      "fitting\n",
      "scoring\n",
      "fitting\n",
      "scoring\n",
      "fitting\n",
      "scoring\n",
      "fitting\n",
      "scoring\n",
      "\n",
      "TRAINING starting week 31\n",
      "dropping week 23\n",
      "dropping week 24\n",
      "dropping week 25\n",
      "dropping week 26\n",
      "dropping week 27\n",
      "dropping week 28\n",
      "dropping week 29\n",
      "dropping week 30\n",
      "fitting\n",
      "scoring\n",
      "fitting\n",
      "scoring\n",
      "fitting\n",
      "scoring\n",
      "fitting\n",
      "scoring\n",
      "\n",
      "TRAINING starting week 32\n",
      "dropping week 23\n",
      "dropping week 24\n",
      "dropping week 25\n",
      "dropping week 26\n",
      "dropping week 27\n",
      "dropping week 28\n",
      "dropping week 29\n",
      "dropping week 30\n",
      "dropping week 31\n",
      "fitting\n",
      "scoring\n",
      "fitting\n",
      "scoring\n",
      "fitting\n",
      "scoring\n",
      "fitting\n",
      "scoring\n",
      "\n",
      "TRAINING starting week 33\n",
      "dropping week 23\n",
      "dropping week 24\n",
      "dropping week 25\n",
      "dropping week 26\n",
      "dropping week 27\n",
      "dropping week 28\n",
      "dropping week 29\n",
      "dropping week 30\n",
      "dropping week 31\n",
      "dropping week 32\n",
      "fitting\n",
      "scoring\n",
      "fitting\n",
      "scoring\n",
      "fitting\n",
      "scoring\n",
      "fitting\n",
      "scoring\n",
      "\n",
      "TRAINING starting week 34\n",
      "dropping week 23\n",
      "dropping week 24\n",
      "dropping week 25\n",
      "dropping week 26\n",
      "dropping week 27\n",
      "dropping week 28\n",
      "dropping week 29\n",
      "dropping week 30\n",
      "dropping week 31\n",
      "dropping week 32\n",
      "dropping week 33\n",
      "fitting\n",
      "scoring\n",
      "fitting\n",
      "scoring\n",
      "fitting\n",
      "scoring\n",
      "fitting\n",
      "scoring\n",
      "\n",
      "TRAINING starting week 35\n",
      "dropping week 23\n",
      "dropping week 24\n",
      "dropping week 25\n",
      "dropping week 26\n",
      "dropping week 27\n",
      "dropping week 28\n",
      "dropping week 29\n",
      "dropping week 30\n",
      "dropping week 31\n",
      "dropping week 32\n",
      "dropping week 33\n",
      "dropping week 34\n",
      "fitting\n",
      "scoring\n",
      "fitting\n",
      "scoring\n",
      "fitting\n",
      "scoring\n",
      "fitting\n",
      "scoring\n",
      "CPU times: user 34min 27s, sys: 5min 1s, total: 39min 28s\n",
      "Wall time: 29min 53s\n"
     ]
    }
   ],
   "source": [
    "%%time\n",
    "for starting_week in range(first_week, target_week):\n",
    "    print()\n",
    "    print('TRAINING starting week', starting_week)\n",
    "    \n",
    "    my_data = data\n",
    "    my_data_norm = data_norm\n",
    "    my_data_decay = data_decay\n",
    "    my_data_norm_decay = data_norm_decay\n",
    "    \n",
    "    # drop weeks before starting week\n",
    "    for week in range(first_week, starting_week):\n",
    "        print('dropping week', week)\n",
    "        my_data = my_data.drop(week, axis=1, level=1)\n",
    "        my_data_norm = my_data_norm.drop(week, axis=1, level=1)\n",
    "        my_data_decay = my_data_decay.drop(week, axis=1, level=1)\n",
    "        my_data_norm_decay = my_data_norm_decay.drop(week, axis=1, level=1)\n",
    "    \n",
    "    models = [\n",
    "        my_data,\n",
    "        my_data_norm,\n",
    "        my_data_decay,\n",
    "        my_data_norm_decay,\n",
    "    ]\n",
    "    \n",
    "    # for each dataset, train a model and note accuracy\n",
    "    def train_model(current_data):\n",
    "    \n",
    "        # train a model\n",
    "        train, train_target, test, test_target = hm.split_train_test(current_data)\n",
    "        reg = LogisticRegressionCV()\n",
    "\n",
    "        print('fitting')\n",
    "        model = reg.fit(train, train_target)\n",
    "\n",
    "        # note the accuracy\n",
    "        print('scoring')\n",
    "        return accuracy_score(test_target, model.predict(test))\n",
    "    \n",
    "    models = list(map(train_model, models))\n",
    "    \n",
    "    # insert models into the chart data frame\n",
    "    row = {\n",
    "        'weeks taken': target_week - starting_week,\n",
    "        'base': models[0],\n",
    "        'normalized': models[1],\n",
    "        'with time decay': models[2],\n",
    "        'normalized with time decay': models[3]\n",
    "    }\n",
    "    chart_data = chart_data.append(row, ignore_index=True)"
   ]
  },
  {
   "cell_type": "markdown",
   "metadata": {},
   "source": [
    "Now we print the chart."
   ]
  },
  {
   "cell_type": "code",
   "execution_count": 19,
   "metadata": {
    "collapsed": false
   },
   "outputs": [
    {
     "data": {
      "text/plain": [
       "<matplotlib.axes._subplots.AxesSubplot at 0x1a0b20080>"
      ]
     },
     "execution_count": 19,
     "metadata": {},
     "output_type": "execute_result"
    },
    {
     "data": {
      "image/png": "[encoded data removed]",
      "text/plain": [
       "<matplotlib.figure.Figure at 0x1a0b3d7b8>"
      ]
     },
     "metadata": {},
     "output_type": "display_data"
    }
   ],
   "source": [
    "chart_data.set_index('weeks taken').sort_index().plot(kind='bar', ylim=(0.45, 1))"
   ]
  },
  {
   "cell_type": "markdown",
   "metadata": {},
   "source": [
    "Let's now see what model has the best accuracy."
   ]
  },
  {
   "cell_type": "code",
   "execution_count": 17,
   "metadata": {
    "collapsed": false
   },
   "outputs": [
    {
     "data": {
      "text/plain": [
       "'base'"
      ]
     },
     "execution_count": 17,
     "metadata": {},
     "output_type": "execute_result"
    }
   ],
   "source": [
    "best_per_column = chart_data.drop('weeks taken', axis=1).max()\n",
    "best_per_column.idxmax()"
   ]
  },
  {
   "cell_type": "code",
   "execution_count": 18,
   "metadata": {
    "collapsed": false
   },
   "outputs": [
    {
     "data": {
      "text/plain": [
       "11.0"
      ]
     },
     "execution_count": 18,
     "metadata": {},
     "output_type": "execute_result"
    }
   ],
   "source": [
    "best_of_best = chart_data[best_per_column.idxmax()].idxmax()\n",
    "chart_data.loc[best_of_best]['weeks taken']"
   ]
  },
  {
   "cell_type": "code",
   "execution_count": 22,
   "metadata": {
    "collapsed": false
   },
   "outputs": [
    {
     "data": {
      "text/plain": [
       "base                          11\n",
       "normalized                    10\n",
       "normalized with time decay     5\n",
       "with time decay               13\n",
       "dtype: int64"
      ]
     },
     "execution_count": 22,
     "metadata": {},
     "output_type": "execute_result"
    }
   ],
   "source": [
    "13 - chart_data.drop('weeks taken', axis=1).idxmax()"
   ]
  },
  {
   "cell_type": "code",
   "execution_count": 21,
   "metadata": {
    "collapsed": false
   },
   "outputs": [
    {
     "data": {
      "text/html": [
       "<div>\n",
       "<table border=\"1\" class=\"dataframe\">\n",
       "  <thead>\n",
       "    <tr style=\"text-align: right;\">\n",
       "      <th></th>\n",
       "      <th>base</th>\n",
       "      <th>normalized</th>\n",
       "      <th>normalized with time decay</th>\n",
       "      <th>weeks taken</th>\n",
       "      <th>with time decay</th>\n",
       "    </tr>\n",
       "  </thead>\n",
       "  <tbody>\n",
       "    <tr>\n",
       "      <th>0</th>\n",
       "      <td>0.760436</td>\n",
       "      <td>0.499977</td>\n",
       "      <td>0.499402</td>\n",
       "      <td>13.0</td>\n",
       "      <td>0.761196</td>\n",
       "    </tr>\n",
       "    <tr>\n",
       "      <th>1</th>\n",
       "      <td>0.760655</td>\n",
       "      <td>0.499588</td>\n",
       "      <td>0.610147</td>\n",
       "      <td>12.0</td>\n",
       "      <td>0.760078</td>\n",
       "    </tr>\n",
       "    <tr>\n",
       "      <th>2</th>\n",
       "      <td>0.761265</td>\n",
       "      <td>0.499617</td>\n",
       "      <td>0.499515</td>\n",
       "      <td>11.0</td>\n",
       "      <td>0.760514</td>\n",
       "    </tr>\n",
       "    <tr>\n",
       "      <th>3</th>\n",
       "      <td>0.760081</td>\n",
       "      <td>0.645913</td>\n",
       "      <td>0.516917</td>\n",
       "      <td>10.0</td>\n",
       "      <td>0.759554</td>\n",
       "    </tr>\n",
       "    <tr>\n",
       "      <th>4</th>\n",
       "      <td>0.760800</td>\n",
       "      <td>0.499953</td>\n",
       "      <td>0.609212</td>\n",
       "      <td>9.0</td>\n",
       "      <td>0.759894</td>\n",
       "    </tr>\n",
       "    <tr>\n",
       "      <th>5</th>\n",
       "      <td>0.760024</td>\n",
       "      <td>0.499226</td>\n",
       "      <td>0.499438</td>\n",
       "      <td>8.0</td>\n",
       "      <td>0.760590</td>\n",
       "    </tr>\n",
       "    <tr>\n",
       "      <th>6</th>\n",
       "      <td>0.759912</td>\n",
       "      <td>0.499469</td>\n",
       "      <td>0.499698</td>\n",
       "      <td>7.0</td>\n",
       "      <td>0.760635</td>\n",
       "    </tr>\n",
       "    <tr>\n",
       "      <th>7</th>\n",
       "      <td>0.759810</td>\n",
       "      <td>0.499556</td>\n",
       "      <td>0.499778</td>\n",
       "      <td>6.0</td>\n",
       "      <td>0.760120</td>\n",
       "    </tr>\n",
       "    <tr>\n",
       "      <th>8</th>\n",
       "      <td>0.760301</td>\n",
       "      <td>0.499352</td>\n",
       "      <td>0.621555</td>\n",
       "      <td>5.0</td>\n",
       "      <td>0.759902</td>\n",
       "    </tr>\n",
       "    <tr>\n",
       "      <th>9</th>\n",
       "      <td>0.761075</td>\n",
       "      <td>0.499908</td>\n",
       "      <td>0.499540</td>\n",
       "      <td>4.0</td>\n",
       "      <td>0.760300</td>\n",
       "    </tr>\n",
       "    <tr>\n",
       "      <th>10</th>\n",
       "      <td>0.760692</td>\n",
       "      <td>0.499454</td>\n",
       "      <td>0.499520</td>\n",
       "      <td>3.0</td>\n",
       "      <td>0.760170</td>\n",
       "    </tr>\n",
       "    <tr>\n",
       "      <th>11</th>\n",
       "      <td>0.760271</td>\n",
       "      <td>0.499732</td>\n",
       "      <td>0.499976</td>\n",
       "      <td>2.0</td>\n",
       "      <td>0.759757</td>\n",
       "    </tr>\n",
       "    <tr>\n",
       "      <th>12</th>\n",
       "      <td>0.759164</td>\n",
       "      <td>0.499656</td>\n",
       "      <td>0.499214</td>\n",
       "      <td>1.0</td>\n",
       "      <td>0.759845</td>\n",
       "    </tr>\n",
       "  </tbody>\n",
       "</table>\n",
       "</div>"
      ],
      "text/plain": [
       "        base  normalized  normalized with time decay  weeks taken  \\\n",
       "0   0.760436    0.499977                    0.499402         13.0   \n",
       "1   0.760655    0.499588                    0.610147         12.0   \n",
       "2   0.761265    0.499617                    0.499515         11.0   \n",
       "3   0.760081    0.645913                    0.516917         10.0   \n",
       "4   0.760800    0.499953                    0.609212          9.0   \n",
       "5   0.760024    0.499226                    0.499438          8.0   \n",
       "6   0.759912    0.499469                    0.499698          7.0   \n",
       "7   0.759810    0.499556                    0.499778          6.0   \n",
       "8   0.760301    0.499352                    0.621555          5.0   \n",
       "9   0.761075    0.499908                    0.499540          4.0   \n",
       "10  0.760692    0.499454                    0.499520          3.0   \n",
       "11  0.760271    0.499732                    0.499976          2.0   \n",
       "12  0.759164    0.499656                    0.499214          1.0   \n",
       "\n",
       "    with time decay  \n",
       "0          0.761196  \n",
       "1          0.760078  \n",
       "2          0.760514  \n",
       "3          0.759554  \n",
       "4          0.759894  \n",
       "5          0.760590  \n",
       "6          0.760635  \n",
       "7          0.760120  \n",
       "8          0.759902  \n",
       "9          0.760300  \n",
       "10         0.760170  \n",
       "11         0.759757  \n",
       "12         0.759845  "
      ]
     },
     "execution_count": 21,
     "metadata": {},
     "output_type": "execute_result"
    }
   ],
   "source": [
    "chart_data"
   ]
  }
 ],
 "metadata": {
  "kernelspec": {
   "display_name": "Python 3",
   "language": "python",
   "name": "python3"
  },
  "language_info": {
   "codemirror_mode": {
    "name": "ipython",
    "version": 3
   },
   "file_extension": ".py",
   "mimetype": "text/x-python",
   "name": "python",
   "nbconvert_exporter": "python",
   "pygments_lexer": "ipython3",
   "version": "3.6.1"
  }
 },
 "nbformat": 4,
 "nbformat_minor": 2
}
