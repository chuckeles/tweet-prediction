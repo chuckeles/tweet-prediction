{
 "cells": [
  {
   "cell_type": "markdown",
   "metadata": {},
   "source": [
    "# Naive bayes classifier\n",
    "\n",
    "In this notebook, we will train a Naive bayes classifier on a subset of the data. We will use grid-search to optimize the parameters."
   ]
  },
  {
   "cell_type": "code",
   "execution_count": 1,
   "metadata": {},
   "outputs": [],
   "source": [
    "import sys\n",
    "sys.path.append('../scripts')\n",
    "\n",
    "import numpy as np\n",
    "import pandas as pd\n",
    "import helpers_models as hm\n",
    "from transforms import *\n",
    "from sklearn.pipeline import Pipeline\n",
    "from sklearn.model_selection import train_test_split\n",
    "from sklearn.metrics import classification_report\n",
    "from sklearn.naive_bayes import GaussianNB\n",
    "from sklearn.model_selection import GridSearchCV"
   ]
  },
  {
   "cell_type": "markdown",
   "metadata": {},
   "source": [
    "First, load a sample of the data."
   ]
  },
  {
   "cell_type": "code",
   "execution_count": 2,
   "metadata": {},
   "outputs": [],
   "source": [
    "data = pd.read_hdf('../data/pivot_numbers_only.h5', 'data').sample(2000000)"
   ]
  },
  {
   "cell_type": "code",
   "execution_count": 3,
   "metadata": {
    "collapsed": true
   },
   "outputs": [],
   "source": [
    "first_week, last_week = data['tweets'].columns.min(), data['tweets'].columns.max()"
   ]
  },
  {
   "cell_type": "code",
   "execution_count": 4,
   "metadata": {
    "collapsed": true
   },
   "outputs": [],
   "source": [
    "data = hm.make_target(data, last_week)"
   ]
  },
  {
   "cell_type": "code",
   "execution_count": 5,
   "metadata": {},
   "outputs": [
    {
     "data": {
      "text/plain": [
       "(2000000, 53)"
      ]
     },
     "execution_count": 5,
     "metadata": {},
     "output_type": "execute_result"
    }
   ],
   "source": [
    "data.shape"
   ]
  },
  {
   "cell_type": "code",
   "execution_count": 6,
   "metadata": {},
   "outputs": [
    {
     "data": {
      "text/plain": [
       "23"
      ]
     },
     "execution_count": 6,
     "metadata": {},
     "output_type": "execute_result"
    }
   ],
   "source": [
    "first_week"
   ]
  },
  {
   "cell_type": "code",
   "execution_count": 7,
   "metadata": {},
   "outputs": [
    {
     "data": {
      "text/plain": [
       "36"
      ]
     },
     "execution_count": 7,
     "metadata": {},
     "output_type": "execute_result"
    }
   ],
   "source": [
    "last_week"
   ]
  },
  {
   "cell_type": "markdown",
   "metadata": {},
   "source": [
    "Split the data into train and test."
   ]
  },
  {
   "cell_type": "code",
   "execution_count": 8,
   "metadata": {
    "collapsed": true
   },
   "outputs": [],
   "source": [
    "train, test = train_test_split(data)"
   ]
  },
  {
   "cell_type": "markdown",
   "metadata": {},
   "source": [
    "Now make a pipeline for transforming and predicting."
   ]
  },
  {
   "cell_type": "code",
   "execution_count": 9,
   "metadata": {
    "collapsed": true
   },
   "outputs": [],
   "source": [
    "pipeline = Pipeline([\n",
    "    ('limiter', WeeksLimiter(first_week=25, target_week=last_week)),\n",
    "    ('normal', Normalizer()),\n",
    "    ('decay', TimeDecayApplier(target_week=last_week)),\n",
    "    ('bayes', GaussianNB())\n",
    "])"
   ]
  },
  {
   "cell_type": "markdown",
   "metadata": {},
   "source": [
    "Now let's check the params of the pipeline for grid-search to optimize."
   ]
  },
  {
   "cell_type": "code",
   "execution_count": 10,
   "metadata": {
    "scrolled": false
   },
   "outputs": [
    {
     "data": {
      "text/plain": [
       "{'bayes': GaussianNB(priors=None),\n",
       " 'bayes__priors': None,\n",
       " 'decay': TimeDecayApplier(skip=False, target_week=36),\n",
       " 'decay__skip': False,\n",
       " 'decay__target_week': 36,\n",
       " 'limiter': WeeksLimiter(first_week=25, target_week=36),\n",
       " 'limiter__first_week': 25,\n",
       " 'limiter__target_week': 36,\n",
       " 'normal': Normalizer(skip=False),\n",
       " 'normal__skip': False,\n",
       " 'steps': [('limiter', WeeksLimiter(first_week=25, target_week=36)),\n",
       "  ('normal', Normalizer(skip=False)),\n",
       "  ('decay', TimeDecayApplier(skip=False, target_week=36)),\n",
       "  ('bayes', GaussianNB(priors=None))]}"
      ]
     },
     "execution_count": 10,
     "metadata": {},
     "output_type": "execute_result"
    }
   ],
   "source": [
    "pipeline.get_params()"
   ]
  },
  {
   "cell_type": "code",
   "execution_count": 11,
   "metadata": {
    "collapsed": true
   },
   "outputs": [],
   "source": [
    "params = {\n",
    "    'limiter__first_week': [23, 25, 30, 32],\n",
    "    'normal__skip': [False, True],\n",
    "    'decay__skip': [False, True]\n",
    "}"
   ]
  },
  {
   "cell_type": "code",
   "execution_count": 15,
   "metadata": {
    "collapsed": true
   },
   "outputs": [],
   "source": [
    "model = GridSearchCV(pipeline, params, n_jobs=-1, pre_dispatch='2*n_jobs', verbose=2, error_score=0)"
   ]
  },
  {
   "cell_type": "markdown",
   "metadata": {},
   "source": [
    "The next step is to train the model and optimize the params."
   ]
  },
  {
   "cell_type": "code",
   "execution_count": 16,
   "metadata": {
    "scrolled": true
   },
   "outputs": [
    {
     "name": "stdout",
     "output_type": "stream",
     "text": [
      "Fitting 3 folds for each of 16 candidates, totalling 48 fits\n",
      "[CV] decay__skip=False, limiter__first_week=23, normal__skip=False ...\n",
      "[CV] decay__skip=False, limiter__first_week=23, normal__skip=False ...\n",
      "[CV] decay__skip=False, limiter__first_week=23, normal__skip=False ...\n",
      "[CV] decay__skip=False, limiter__first_week=23, normal__skip=True ....\n",
      "[CV] decay__skip=False, limiter__first_week=23, normal__skip=True ....\n",
      "[CV] decay__skip=False, limiter__first_week=23, normal__skip=True ....\n",
      "[CV]  decay__skip=False, limiter__first_week=23, normal__skip=False, total=   9.4s\n",
      "[CV] decay__skip=False, limiter__first_week=25, normal__skip=False ...\n",
      "[CV]  decay__skip=False, limiter__first_week=23, normal__skip=False, total=  10.7s\n",
      "[CV] decay__skip=False, limiter__first_week=25, normal__skip=False ...\n",
      "[CV]  decay__skip=False, limiter__first_week=23, normal__skip=False, total=  13.4s\n",
      "[CV] decay__skip=False, limiter__first_week=25, normal__skip=False ...\n",
      "[CV] decay__skip=False, limiter__first_week=25, normal__skip=True ....\n",
      "[CV] decay__skip=False, limiter__first_week=25, normal__skip=True ....\n",
      "[CV]  decay__skip=False, limiter__first_week=25, normal__skip=False, total=  22.8s\n",
      "[CV]  decay__skip=False, limiter__first_week=25, normal__skip=False, total=  22.7s\n",
      "[CV] decay__skip=False, limiter__first_week=25, normal__skip=True ....\n",
      "[CV] decay__skip=False, limiter__first_week=30, normal__skip=False ...\n",
      "[CV]  decay__skip=False, limiter__first_week=25, normal__skip=False, total=  25.5s\n",
      "[CV] decay__skip=False, limiter__first_week=30, normal__skip=False ...\n",
      "[CV]  decay__skip=False, limiter__first_week=30, normal__skip=False, total=  28.2s\n",
      "[CV]  decay__skip=False, limiter__first_week=30, normal__skip=False, total=  28.1s\n",
      "[CV] decay__skip=False, limiter__first_week=30, normal__skip=False ...\n",
      "[CV] decay__skip=False, limiter__first_week=30, normal__skip=True ....\n",
      "[CV]  decay__skip=False, limiter__first_week=30, normal__skip=False, total=  25.7s\n",
      "[CV] decay__skip=False, limiter__first_week=30, normal__skip=True ....\n",
      "[CV]  decay__skip=False, limiter__first_week=25, normal__skip=True, total= 1.7min\n",
      "[CV]  decay__skip=False, limiter__first_week=30, normal__skip=True, total=  54.0s\n",
      "[CV] decay__skip=False, limiter__first_week=30, normal__skip=True ....\n",
      "[CV]  decay__skip=False, limiter__first_week=25, normal__skip=True, total= 1.7min\n",
      "[CV]  decay__skip=False, limiter__first_week=23, normal__skip=True, total= 2.0min\n",
      "[CV]  decay__skip=False, limiter__first_week=23, normal__skip=True, total= 2.0min\n",
      "[CV] decay__skip=False, limiter__first_week=32, normal__skip=False ...\n",
      "[CV]  decay__skip=False, limiter__first_week=25, normal__skip=True, total= 1.7min\n",
      "[CV] decay__skip=False, limiter__first_week=32, normal__skip=False ...\n",
      "[CV]  decay__skip=False, limiter__first_week=30, normal__skip=True, total=  58.6s\n",
      "[CV]  decay__skip=False, limiter__first_week=23, normal__skip=True, total= 2.1min\n",
      "[CV] decay__skip=False, limiter__first_week=32, normal__skip=False ...\n",
      "[CV] decay__skip=False, limiter__first_week=32, normal__skip=True ....\n",
      "[CV] decay__skip=False, limiter__first_week=32, normal__skip=True ....\n",
      "[CV]  decay__skip=False, limiter__first_week=32, normal__skip=False, total=  15.4s\n",
      "[CV] decay__skip=False, limiter__first_week=32, normal__skip=True ....\n",
      "[CV]  decay__skip=False, limiter__first_week=32, normal__skip=False, total=  16.6s\n",
      "[CV] decay__skip=True, limiter__first_week=23, normal__skip=False ....\n",
      "[CV] decay__skip=True, limiter__first_week=23, normal__skip=False ....\n",
      "[CV]  decay__skip=False, limiter__first_week=32, normal__skip=False, total=  20.0s\n",
      "[CV] decay__skip=True, limiter__first_week=23, normal__skip=False ....\n",
      "[CV]  decay__skip=False, limiter__first_week=30, normal__skip=True, total=  32.3s\n",
      "[CV] decay__skip=True, limiter__first_week=23, normal__skip=True .....\n",
      "[CV] decay__skip=True, limiter__first_week=23, normal__skip=True .....\n",
      "[CV]  decay__skip=False, limiter__first_week=32, normal__skip=True, total=  29.6s\n",
      "[CV]  decay__skip=False, limiter__first_week=32, normal__skip=True, total=  30.5s\n",
      "[CV] decay__skip=True, limiter__first_week=23, normal__skip=True .....\n",
      "[CV]  decay__skip=True, limiter__first_week=23, normal__skip=False, total=  29.6s\n",
      "[CV] decay__skip=True, limiter__first_week=25, normal__skip=False ....\n",
      "[CV]  decay__skip=False, limiter__first_week=32, normal__skip=True, total=  34.5s\n",
      "[CV]  decay__skip=True, limiter__first_week=23, normal__skip=False, total=  28.6s\n"
     ]
    },
    {
     "name": "stderr",
     "output_type": "stream",
     "text": [
      "[Parallel(n_jobs=-1)]: Done  25 tasks      | elapsed:  5.0min\n"
     ]
    },
    {
     "name": "stdout",
     "output_type": "stream",
     "text": [
      "[CV]  decay__skip=True, limiter__first_week=23, normal__skip=True, total=  23.6s\n",
      "[CV]  decay__skip=True, limiter__first_week=23, normal__skip=False, total=  28.6s\n",
      "[CV] decay__skip=True, limiter__first_week=25, normal__skip=False ....\n",
      "[CV]  decay__skip=True, limiter__first_week=23, normal__skip=True, total=  18.8s\n",
      "[CV] decay__skip=True, limiter__first_week=25, normal__skip=False ....\n",
      "[CV]  decay__skip=True, limiter__first_week=23, normal__skip=True, total=  14.3s\n",
      "[CV] decay__skip=True, limiter__first_week=25, normal__skip=True .....\n",
      "[CV] decay__skip=True, limiter__first_week=25, normal__skip=True .....\n",
      "[CV]  decay__skip=True, limiter__first_week=25, normal__skip=False, total=  14.0s\n",
      "[CV] decay__skip=True, limiter__first_week=25, normal__skip=True .....\n",
      "[CV]  decay__skip=True, limiter__first_week=25, normal__skip=False, total=  13.3s\n",
      "[CV] decay__skip=True, limiter__first_week=30, normal__skip=False ....\n",
      "[CV]  decay__skip=True, limiter__first_week=25, normal__skip=False, total=  13.7s\n",
      "[CV]  decay__skip=True, limiter__first_week=25, normal__skip=True, total=  12.4s\n",
      "[CV] decay__skip=True, limiter__first_week=30, normal__skip=False ....\n",
      "[CV]  decay__skip=True, limiter__first_week=25, normal__skip=True, total=  12.9s\n",
      "[CV] decay__skip=True, limiter__first_week=30, normal__skip=False ....\n",
      "[CV]  decay__skip=True, limiter__first_week=25, normal__skip=True, total=  11.4s\n",
      "[CV] decay__skip=True, limiter__first_week=30, normal__skip=True .....\n",
      "[CV]  decay__skip=True, limiter__first_week=30, normal__skip=False, total=  10.5s\n",
      "[CV] decay__skip=True, limiter__first_week=30, normal__skip=True .....\n",
      "[CV]  decay__skip=True, limiter__first_week=30, normal__skip=False, total=  10.1s\n",
      "[CV] decay__skip=True, limiter__first_week=30, normal__skip=True .....\n",
      "[CV] decay__skip=True, limiter__first_week=32, normal__skip=False ....\n",
      "[CV]  decay__skip=True, limiter__first_week=30, normal__skip=False, total=  12.2s\n",
      "[CV] decay__skip=True, limiter__first_week=32, normal__skip=False ....\n",
      "[CV]  decay__skip=True, limiter__first_week=30, normal__skip=True, total=  11.0s\n",
      "[CV] decay__skip=True, limiter__first_week=32, normal__skip=False ....\n",
      "[CV]  decay__skip=True, limiter__first_week=30, normal__skip=True, total=  11.1s\n",
      "[CV] decay__skip=True, limiter__first_week=32, normal__skip=True .....\n",
      "[CV]  decay__skip=True, limiter__first_week=30, normal__skip=True, total=  11.9s\n",
      "[CV] decay__skip=True, limiter__first_week=32, normal__skip=True .....\n",
      "[CV]  decay__skip=True, limiter__first_week=32, normal__skip=False, total=  12.3s\n",
      "[CV] decay__skip=True, limiter__first_week=32, normal__skip=True .....\n",
      "[CV]  decay__skip=True, limiter__first_week=32, normal__skip=False, total=  12.0s\n",
      "[CV]  decay__skip=True, limiter__first_week=32, normal__skip=False, total=  13.6s\n",
      "[CV]  decay__skip=True, limiter__first_week=32, normal__skip=True, total=  11.2s\n",
      "[CV]  decay__skip=True, limiter__first_week=32, normal__skip=True, total=  11.2s\n",
      "[CV]  decay__skip=True, limiter__first_week=32, normal__skip=True, total=  10.2s\n"
     ]
    },
    {
     "name": "stderr",
     "output_type": "stream",
     "text": [
      "[Parallel(n_jobs=-1)]: Done  48 out of  48 | elapsed:  6.3min finished\n"
     ]
    },
    {
     "name": "stdout",
     "output_type": "stream",
     "text": [
      "CPU times: user 2min 34s, sys: 30.4 s, total: 3min 4s\n",
      "Wall time: 6min 24s\n"
     ]
    },
    {
     "data": {
      "text/plain": [
       "GridSearchCV(cv=None, error_score=0,\n",
       "       estimator=Pipeline(steps=[('limiter', WeeksLimiter(first_week=25, target_week=36)), ('normal', Normalizer(skip=False)), ('decay', TimeDecayApplier(skip=False, target_week=36)), ('bayes', GaussianNB(priors=None))]),\n",
       "       fit_params={}, iid=True, n_jobs=-1,\n",
       "       param_grid={'limiter__first_week': [23, 25, 30, 32], 'normal__skip': [False, True], 'decay__skip': [False, True]},\n",
       "       pre_dispatch='2*n_jobs', refit=True, return_train_score=True,\n",
       "       scoring=None, verbose=2)"
      ]
     },
     "execution_count": 16,
     "metadata": {},
     "output_type": "execute_result"
    }
   ],
   "source": [
    "%%time\n",
    "model.fit(train.drop('target', axis=1, level=0), train['target'])"
   ]
  },
  {
   "cell_type": "markdown",
   "metadata": {},
   "source": [
    "Finally, use the model to predict test values and scores. We will use the test data for predictions."
   ]
  },
  {
   "cell_type": "code",
   "execution_count": 17,
   "metadata": {},
   "outputs": [
    {
     "name": "stdout",
     "output_type": "stream",
     "text": [
      "CPU times: user 1.04 s, sys: 812 ms, total: 1.85 s\n",
      "Wall time: 1.78 s\n"
     ]
    }
   ],
   "source": [
    "%%time\n",
    "predicted = model.predict(test.drop('target', axis=1, level=0))\n",
    "report = classification_report(test['target'], predicted)"
   ]
  },
  {
   "cell_type": "code",
   "execution_count": 18,
   "metadata": {},
   "outputs": [
    {
     "name": "stdout",
     "output_type": "stream",
     "text": [
      "             precision    recall  f1-score   support\n",
      "\n",
      "      False       0.93      0.95      0.94    441706\n",
      "       True       0.54      0.41      0.47     58294\n",
      "\n",
      "avg / total       0.88      0.89      0.88    500000\n",
      "\n"
     ]
    }
   ],
   "source": [
    "print(report)"
   ]
  },
  {
   "cell_type": "markdown",
   "metadata": {},
   "source": [
    "Also check the best parameters grid-search found."
   ]
  },
  {
   "cell_type": "code",
   "execution_count": 19,
   "metadata": {},
   "outputs": [
    {
     "data": {
      "text/plain": [
       "{'decay__skip': False, 'limiter__first_week': 32, 'normal__skip': False}"
      ]
     },
     "execution_count": 19,
     "metadata": {},
     "output_type": "execute_result"
    }
   ],
   "source": [
    "model.best_params_"
   ]
  }
 ],
 "metadata": {
  "kernelspec": {
   "display_name": "Python 3",
   "language": "python",
   "name": "python3"
  },
  "language_info": {
   "codemirror_mode": {
    "name": "ipython",
    "version": 3
   },
   "file_extension": ".py",
   "mimetype": "text/x-python",
   "name": "python",
   "nbconvert_exporter": "python",
   "pygments_lexer": "ipython3",
   "version": "3.6.1"
  }
 },
 "nbformat": 4,
 "nbformat_minor": 2
}
