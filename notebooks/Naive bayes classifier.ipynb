{
 "cells": [
  {
   "cell_type": "markdown",
   "metadata": {},
   "source": [
    "# Naive bayes classifier\n",
    "\n",
    "In this notebook, we will train a Naive bayes classifier on a subset of the data. We will use grid-search to optimize the parameters."
   ]
  },
  {
   "cell_type": "code",
   "execution_count": 1,
   "metadata": {
    "collapsed": true
   },
   "outputs": [],
   "source": [
    "import sys\n",
    "sys.path.append('../scripts')\n",
    "\n",
    "import numpy as np\n",
    "import pandas as pd\n",
    "import helpers_models as hm\n",
    "from transforms import *\n",
    "from sklearn.pipeline import Pipeline\n",
    "from sklearn.model_selection import train_test_split\n",
    "from sklearn.metrics import classification_report\n",
    "from sklearn.naive_bayes import GaussianNB\n",
    "from sklearn.model_selection import GridSearchCV"
   ]
  },
  {
   "cell_type": "markdown",
   "metadata": {},
   "source": [
    "First, load a sample of the data."
   ]
  },
  {
   "cell_type": "code",
   "execution_count": 2,
   "metadata": {
    "collapsed": true
   },
   "outputs": [],
   "source": [
    "data = pd.read_hdf('../data/pivot_numbers_only.h5', 'data').sample(2000000)"
   ]
  },
  {
   "cell_type": "code",
   "execution_count": 3,
   "metadata": {
    "collapsed": true
   },
   "outputs": [],
   "source": [
    "first_week, last_week = data['tweets'].columns.min(), data['tweets'].columns.max()"
   ]
  },
  {
   "cell_type": "code",
   "execution_count": 4,
   "metadata": {
    "collapsed": true
   },
   "outputs": [],
   "source": [
    "data = hm.make_target(data, last_week)"
   ]
  },
  {
   "cell_type": "code",
   "execution_count": 5,
   "metadata": {},
   "outputs": [
    {
     "data": {
      "text/plain": [
       "(2000000, 53)"
      ]
     },
     "execution_count": 5,
     "metadata": {},
     "output_type": "execute_result"
    }
   ],
   "source": [
    "data.shape"
   ]
  },
  {
   "cell_type": "code",
   "execution_count": 6,
   "metadata": {},
   "outputs": [
    {
     "data": {
      "text/plain": [
       "23"
      ]
     },
     "execution_count": 6,
     "metadata": {},
     "output_type": "execute_result"
    }
   ],
   "source": [
    "first_week"
   ]
  },
  {
   "cell_type": "code",
   "execution_count": 7,
   "metadata": {},
   "outputs": [
    {
     "data": {
      "text/plain": [
       "36"
      ]
     },
     "execution_count": 7,
     "metadata": {},
     "output_type": "execute_result"
    }
   ],
   "source": [
    "last_week"
   ]
  },
  {
   "cell_type": "markdown",
   "metadata": {},
   "source": [
    "Split the data into train and test."
   ]
  },
  {
   "cell_type": "code",
   "execution_count": 8,
   "metadata": {
    "collapsed": true
   },
   "outputs": [],
   "source": [
    "train, test = train_test_split(data)"
   ]
  },
  {
   "cell_type": "markdown",
   "metadata": {},
   "source": [
    "Now make a pipeline for transforming and predicting."
   ]
  },
  {
   "cell_type": "code",
   "execution_count": 9,
   "metadata": {
    "collapsed": true
   },
   "outputs": [],
   "source": [
    "pipeline = Pipeline([\n",
    "    ('limiter', WeeksLimiter(first_week=25, target_week=last_week)),\n",
    "    ('normal', Normalizer()),\n",
    "    ('decay', TimeDecayApplier(target_week=last_week)),\n",
    "    ('bayes', GaussianNB())\n",
    "])"
   ]
  },
  {
   "cell_type": "markdown",
   "metadata": {},
   "source": [
    "Now let's check the params of the pipeline for grid-search to optimize."
   ]
  },
  {
   "cell_type": "code",
   "execution_count": 10,
   "metadata": {
    "scrolled": false
   },
   "outputs": [
    {
     "data": {
      "text/plain": [
       "{'bayes': GaussianNB(priors=None),\n",
       " 'bayes__priors': None,\n",
       " 'decay': TimeDecayApplier(skip=False, target_week=36),\n",
       " 'decay__skip': False,\n",
       " 'decay__target_week': 36,\n",
       " 'limiter': WeeksLimiter(first_week=25, target_week=36),\n",
       " 'limiter__first_week': 25,\n",
       " 'limiter__target_week': 36,\n",
       " 'normal': Normalizer(skip=False),\n",
       " 'normal__skip': False,\n",
       " 'steps': [('limiter', WeeksLimiter(first_week=25, target_week=36)),\n",
       "  ('normal', Normalizer(skip=False)),\n",
       "  ('decay', TimeDecayApplier(skip=False, target_week=36)),\n",
       "  ('bayes', GaussianNB(priors=None))]}"
      ]
     },
     "execution_count": 10,
     "metadata": {},
     "output_type": "execute_result"
    }
   ],
   "source": [
    "pipeline.get_params()"
   ]
  },
  {
   "cell_type": "code",
   "execution_count": 11,
   "metadata": {
    "collapsed": true
   },
   "outputs": [],
   "source": [
    "params = {\n",
    "    'limiter__first_week': [23, 25, 30, 32],\n",
    "    'normal__skip': [False, True],\n",
    "    'decay__skip': [False, True]\n",
    "}"
   ]
  },
  {
   "cell_type": "code",
   "execution_count": 12,
   "metadata": {
    "collapsed": true
   },
   "outputs": [],
   "source": [
    "model = GridSearchCV(pipeline, params, n_jobs=-1, pre_dispatch='2*n_jobs', verbose=2, error_score=0)"
   ]
  },
  {
   "cell_type": "markdown",
   "metadata": {},
   "source": [
    "The next step is to train the model and optimize the params."
   ]
  },
  {
   "cell_type": "code",
   "execution_count": 13,
   "metadata": {
    "scrolled": true
   },
   "outputs": [
    {
     "name": "stdout",
     "output_type": "stream",
     "text": [
      "Fitting 3 folds for each of 16 candidates, totalling 48 fits\n",
      "[CV] decay__skip=False, limiter__first_week=23, normal__skip=False ...\n",
      "[CV] decay__skip=False, limiter__first_week=23, normal__skip=False ...\n",
      "[CV] decay__skip=False, limiter__first_week=23, normal__skip=False ...\n",
      "[CV] decay__skip=False, limiter__first_week=23, normal__skip=True ....\n",
      "[CV] decay__skip=False, limiter__first_week=23, normal__skip=True ....\n",
      "[CV] decay__skip=False, limiter__first_week=23, normal__skip=True ....\n",
      "[CV]  decay__skip=False, limiter__first_week=23, normal__skip=False, total=  10.8s\n",
      "[CV] decay__skip=False, limiter__first_week=25, normal__skip=False ...\n",
      "[CV]  decay__skip=False, limiter__first_week=23, normal__skip=False, total=  14.5s\n",
      "[CV] decay__skip=False, limiter__first_week=25, normal__skip=False ...\n",
      "[CV]  decay__skip=False, limiter__first_week=23, normal__skip=False, total=  19.7s\n",
      "[CV] decay__skip=False, limiter__first_week=25, normal__skip=False ...\n",
      "[CV] decay__skip=False, limiter__first_week=25, normal__skip=True ....\n",
      "[CV] decay__skip=False, limiter__first_week=25, normal__skip=True ....\n",
      "[CV]  decay__skip=False, limiter__first_week=25, normal__skip=False, total=  25.1s\n",
      "[CV] decay__skip=False, limiter__first_week=25, normal__skip=True ....\n",
      "[CV]  decay__skip=False, limiter__first_week=25, normal__skip=False, total=  27.4s\n",
      "[CV] decay__skip=False, limiter__first_week=30, normal__skip=False ...\n",
      "[CV]  decay__skip=False, limiter__first_week=25, normal__skip=False, total=  30.4s\n",
      "[CV] decay__skip=False, limiter__first_week=30, normal__skip=False ...\n",
      "[CV]  decay__skip=False, limiter__first_week=30, normal__skip=False, total=  27.3s\n",
      "[CV] decay__skip=False, limiter__first_week=30, normal__skip=False ...\n",
      "[CV]  decay__skip=False, limiter__first_week=30, normal__skip=False, total=  28.0s\n",
      "[CV] decay__skip=False, limiter__first_week=30, normal__skip=True ....\n",
      "[CV]  decay__skip=False, limiter__first_week=30, normal__skip=False, total=  25.8s\n",
      "[CV] decay__skip=False, limiter__first_week=30, normal__skip=True ....\n",
      "[CV]  decay__skip=False, limiter__first_week=25, normal__skip=True, total= 1.8min\n",
      "[CV] decay__skip=False, limiter__first_week=30, normal__skip=True ....\n",
      "[CV]  decay__skip=False, limiter__first_week=30, normal__skip=True, total=  57.1s\n",
      "[CV]  decay__skip=False, limiter__first_week=25, normal__skip=True, total= 1.8min\n",
      "[CV]  decay__skip=False, limiter__first_week=23, normal__skip=True, total= 2.2min\n",
      "[CV] decay__skip=False, limiter__first_week=32, normal__skip=False ...\n",
      "[CV]  decay__skip=False, limiter__first_week=23, normal__skip=True, total= 2.2min\n",
      "[CV] decay__skip=False, limiter__first_week=32, normal__skip=False ...\n",
      "[CV]  decay__skip=False, limiter__first_week=25, normal__skip=True, total= 1.8min\n",
      "[CV]  decay__skip=False, limiter__first_week=30, normal__skip=True, total=  53.2s\n",
      "[CV] decay__skip=False, limiter__first_week=32, normal__skip=False ...\n",
      "[CV]  decay__skip=False, limiter__first_week=23, normal__skip=True, total= 2.3min\n",
      "[CV] decay__skip=False, limiter__first_week=32, normal__skip=True ....\n",
      "[CV] decay__skip=False, limiter__first_week=32, normal__skip=True ....\n",
      "[CV]  decay__skip=False, limiter__first_week=32, normal__skip=False, total=  16.6s\n",
      "[CV] decay__skip=False, limiter__first_week=32, normal__skip=True ....\n",
      "[CV] decay__skip=True, limiter__first_week=23, normal__skip=False ....\n",
      "[CV]  decay__skip=False, limiter__first_week=32, normal__skip=False, total=  20.0s\n",
      "[CV] decay__skip=True, limiter__first_week=23, normal__skip=False ....\n",
      "[CV]  decay__skip=False, limiter__first_week=32, normal__skip=False, total=  21.0s\n",
      "[CV] decay__skip=True, limiter__first_week=23, normal__skip=False ....\n",
      "[CV] decay__skip=True, limiter__first_week=23, normal__skip=True .....\n",
      "[CV]  decay__skip=False, limiter__first_week=30, normal__skip=True, total=  36.2s\n",
      "[CV] decay__skip=True, limiter__first_week=23, normal__skip=True .....\n",
      "[CV]  decay__skip=False, limiter__first_week=32, normal__skip=True, total=  29.9s\n",
      "[CV] decay__skip=True, limiter__first_week=23, normal__skip=True .....\n",
      "[CV]  decay__skip=False, limiter__first_week=32, normal__skip=True, total=  30.5s\n",
      "[CV] decay__skip=True, limiter__first_week=25, normal__skip=False ....\n",
      "[CV]  decay__skip=True, limiter__first_week=23, normal__skip=False, total=  26.1s\n",
      "[CV]  decay__skip=False, limiter__first_week=32, normal__skip=True, total=  31.6s\n",
      "[CV]  decay__skip=True, limiter__first_week=23, normal__skip=False, total=  25.1s\n"
     ]
    },
    {
     "name": "stderr",
     "output_type": "stream",
     "text": [
      "[Parallel(n_jobs=-1)]: Done  25 tasks      | elapsed:  5.0min\n"
     ]
    },
    {
     "name": "stdout",
     "output_type": "stream",
     "text": [
      "[CV] decay__skip=True, limiter__first_week=25, normal__skip=False ....\n",
      "[CV]  decay__skip=True, limiter__first_week=23, normal__skip=True, total=  21.7s\n",
      "[CV]  decay__skip=True, limiter__first_week=23, normal__skip=False, total=  26.8s\n",
      "[CV]  decay__skip=True, limiter__first_week=23, normal__skip=True, total=  18.6s\n",
      "[CV] decay__skip=True, limiter__first_week=25, normal__skip=False ....\n",
      "[CV]  decay__skip=True, limiter__first_week=23, normal__skip=True, total=  14.6s\n",
      "[CV] decay__skip=True, limiter__first_week=25, normal__skip=True .....\n",
      "[CV] decay__skip=True, limiter__first_week=25, normal__skip=True .....\n",
      "[CV]  decay__skip=True, limiter__first_week=25, normal__skip=False, total=  14.3s\n",
      "[CV] decay__skip=True, limiter__first_week=25, normal__skip=True .....\n",
      "[CV]  decay__skip=True, limiter__first_week=25, normal__skip=False, total=  12.7s\n",
      "[CV] decay__skip=True, limiter__first_week=30, normal__skip=False ....\n",
      "[CV]  decay__skip=True, limiter__first_week=25, normal__skip=False, total=  12.5s\n",
      "[CV]  decay__skip=True, limiter__first_week=25, normal__skip=True, total=  11.5s\n",
      "[CV] decay__skip=True, limiter__first_week=30, normal__skip=False ....\n",
      "[CV]  decay__skip=True, limiter__first_week=25, normal__skip=True, total=  12.3s\n",
      "[CV] decay__skip=True, limiter__first_week=30, normal__skip=False ....\n",
      "[CV]  decay__skip=True, limiter__first_week=25, normal__skip=True, total=  11.5s\n",
      "[CV] decay__skip=True, limiter__first_week=30, normal__skip=True .....\n",
      "[CV]  decay__skip=True, limiter__first_week=30, normal__skip=False, total=  11.5s\n",
      "[CV] decay__skip=True, limiter__first_week=30, normal__skip=True .....\n",
      "[CV]  decay__skip=True, limiter__first_week=30, normal__skip=False, total=  11.3s\n",
      "[CV] decay__skip=True, limiter__first_week=30, normal__skip=True .....\n",
      "[CV] decay__skip=True, limiter__first_week=32, normal__skip=False ....\n",
      "[CV]  decay__skip=True, limiter__first_week=30, normal__skip=False, total=  12.8s\n",
      "[CV]  decay__skip=True, limiter__first_week=30, normal__skip=True, total=  10.6s\n",
      "[CV] decay__skip=True, limiter__first_week=32, normal__skip=False ....\n",
      "[CV] decay__skip=True, limiter__first_week=32, normal__skip=False ....\n",
      "[CV]  decay__skip=True, limiter__first_week=30, normal__skip=True, total=  11.2s\n",
      "[CV] decay__skip=True, limiter__first_week=32, normal__skip=True .....\n",
      "[CV]  decay__skip=True, limiter__first_week=30, normal__skip=True, total=  13.1s\n",
      "[CV] decay__skip=True, limiter__first_week=32, normal__skip=True .....\n",
      "[CV]  decay__skip=True, limiter__first_week=32, normal__skip=False, total=  13.4s\n",
      "[CV] decay__skip=True, limiter__first_week=32, normal__skip=True .....\n",
      "[CV]  decay__skip=True, limiter__first_week=32, normal__skip=False, total=  13.0s\n",
      "[CV]  decay__skip=True, limiter__first_week=32, normal__skip=False, total=  14.0s\n",
      "[CV]  decay__skip=True, limiter__first_week=32, normal__skip=True, total=  10.7s\n",
      "[CV]  decay__skip=True, limiter__first_week=32, normal__skip=True, total=  10.6s\n",
      "[CV]  decay__skip=True, limiter__first_week=32, normal__skip=True, total=   9.2s\n"
     ]
    },
    {
     "name": "stderr",
     "output_type": "stream",
     "text": [
      "[Parallel(n_jobs=-1)]: Done  48 out of  48 | elapsed:  6.4min finished\n"
     ]
    },
    {
     "name": "stdout",
     "output_type": "stream",
     "text": [
      "CPU times: user 2min 42s, sys: 31.1 s, total: 3min 13s\n",
      "Wall time: 6min 28s\n"
     ]
    },
    {
     "data": {
      "text/plain": [
       "GridSearchCV(cv=None, error_score=0,\n",
       "       estimator=Pipeline(steps=[('limiter', WeeksLimiter(first_week=25, target_week=36)), ('normal', Normalizer(skip=False)), ('decay', TimeDecayApplier(skip=False, target_week=36)), ('bayes', GaussianNB(priors=None))]),\n",
       "       fit_params={}, iid=True, n_jobs=-1,\n",
       "       param_grid={'limiter__first_week': [23, 25, 30, 32], 'normal__skip': [False, True], 'decay__skip': [False, True]},\n",
       "       pre_dispatch='2*n_jobs', refit=True, return_train_score=True,\n",
       "       scoring=None, verbose=2)"
      ]
     },
     "execution_count": 13,
     "metadata": {},
     "output_type": "execute_result"
    }
   ],
   "source": [
    "%%time\n",
    "model.fit(train.drop('target', axis=1, level=0), train['target'])"
   ]
  },
  {
   "cell_type": "markdown",
   "metadata": {},
   "source": [
    "Finally, use the model to predict test values and scores. We will use the test data for predictions."
   ]
  },
  {
   "cell_type": "code",
   "execution_count": 14,
   "metadata": {},
   "outputs": [
    {
     "name": "stdout",
     "output_type": "stream",
     "text": [
      "CPU times: user 1.03 s, sys: 742 ms, total: 1.77 s\n",
      "Wall time: 1.7 s\n"
     ]
    }
   ],
   "source": [
    "%%time\n",
    "predicted = model.predict(test.drop('target', axis=1, level=0))\n",
    "report = classification_report(test['target'], predicted, digits=5)"
   ]
  },
  {
   "cell_type": "code",
   "execution_count": 15,
   "metadata": {},
   "outputs": [
    {
     "name": "stdout",
     "output_type": "stream",
     "text": [
      "             precision    recall  f1-score   support\n",
      "\n",
      "      False    0.92574   0.95429   0.93980    441936\n",
      "       True    0.54539   0.41737   0.47287     58064\n",
      "\n",
      "avg / total    0.88157   0.89194   0.88558    500000\n",
      "\n"
     ]
    }
   ],
   "source": [
    "print(report)"
   ]
  },
  {
   "cell_type": "markdown",
   "metadata": {},
   "source": [
    "Also check the best parameters grid-search found."
   ]
  },
  {
   "cell_type": "code",
   "execution_count": 16,
   "metadata": {},
   "outputs": [
    {
     "data": {
      "text/plain": [
       "{'decay__skip': False, 'limiter__first_week': 32, 'normal__skip': False}"
      ]
     },
     "execution_count": 16,
     "metadata": {},
     "output_type": "execute_result"
    }
   ],
   "source": [
    "model.best_params_"
   ]
  }
 ],
 "metadata": {
  "kernelspec": {
   "display_name": "Python 3",
   "language": "python",
   "name": "python3"
  },
  "language_info": {
   "codemirror_mode": {
    "name": "ipython",
    "version": 3
   },
   "file_extension": ".py",
   "mimetype": "text/x-python",
   "name": "python",
   "nbconvert_exporter": "python",
   "pygments_lexer": "ipython3",
   "version": "3.6.1"
  }
 },
 "nbformat": 4,
 "nbformat_minor": 2
}
